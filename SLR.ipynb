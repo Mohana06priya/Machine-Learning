{
 "cells": [
  {
   "cell_type": "code",
   "execution_count": 1,
   "id": "8a8f6c8f-4056-4df9-b735-f2289fff0d12",
   "metadata": {},
   "outputs": [],
   "source": [
    "import numpy as np \n",
    "import pandas as pd\n",
    "import matplotlib.pyplot as plt"
   ]
  },
  {
   "cell_type": "markdown",
   "id": "3ac3b9f5-b863-464f-971b-305484dd7219",
   "metadata": {},
   "source": [
    "'Loading the dataset and making a model from it'"
   ]
  },
  {
   "cell_type": "code",
   "execution_count": 2,
   "id": "dab49fc6-68ec-4a8c-9eed-dbddf36f1e97",
   "metadata": {},
   "outputs": [
    {
     "data": {
      "text/html": [
       "<div>\n",
       "<style scoped>\n",
       "    .dataframe tbody tr th:only-of-type {\n",
       "        vertical-align: middle;\n",
       "    }\n",
       "\n",
       "    .dataframe tbody tr th {\n",
       "        vertical-align: top;\n",
       "    }\n",
       "\n",
       "    .dataframe thead th {\n",
       "        text-align: right;\n",
       "    }\n",
       "</style>\n",
       "<table border=\"1\" class=\"dataframe\">\n",
       "  <thead>\n",
       "    <tr style=\"text-align: right;\">\n",
       "      <th></th>\n",
       "      <th>YearsExperience</th>\n",
       "      <th>Salary</th>\n",
       "    </tr>\n",
       "  </thead>\n",
       "  <tbody>\n",
       "    <tr>\n",
       "      <th>0</th>\n",
       "      <td>1.1</td>\n",
       "      <td>39343.0</td>\n",
       "    </tr>\n",
       "    <tr>\n",
       "      <th>1</th>\n",
       "      <td>1.3</td>\n",
       "      <td>46205.0</td>\n",
       "    </tr>\n",
       "    <tr>\n",
       "      <th>2</th>\n",
       "      <td>1.5</td>\n",
       "      <td>37731.0</td>\n",
       "    </tr>\n",
       "    <tr>\n",
       "      <th>3</th>\n",
       "      <td>2.0</td>\n",
       "      <td>43525.0</td>\n",
       "    </tr>\n",
       "    <tr>\n",
       "      <th>4</th>\n",
       "      <td>2.2</td>\n",
       "      <td>39891.0</td>\n",
       "    </tr>\n",
       "  </tbody>\n",
       "</table>\n",
       "</div>"
      ],
      "text/plain": [
       "   YearsExperience   Salary\n",
       "0              1.1  39343.0\n",
       "1              1.3  46205.0\n",
       "2              1.5  37731.0\n",
       "3              2.0  43525.0\n",
       "4              2.2  39891.0"
      ]
     },
     "execution_count": 2,
     "metadata": {},
     "output_type": "execute_result"
    }
   ],
   "source": [
    "df=pd.read_csv('Salary_Data.csv')\n",
    "df.head()"
   ]
  },
  {
   "cell_type": "markdown",
   "id": "bc921aee-c197-4e8c-9fdf-24302d5c312d",
   "metadata": {},
   "source": [
    "'pls after loadindg the data check whether any null values are there or not'"
   ]
  },
  {
   "cell_type": "code",
   "execution_count": 3,
   "id": "00d19667-8ac3-419b-87a1-223dc8e835ed",
   "metadata": {},
   "outputs": [
    {
     "data": {
      "text/plain": [
       "YearsExperience    0\n",
       "Salary             0\n",
       "dtype: int64"
      ]
     },
     "execution_count": 3,
     "metadata": {},
     "output_type": "execute_result"
    }
   ],
   "source": [
    "df.isnull().sum()"
   ]
  },
  {
   "cell_type": "markdown",
   "id": "f74c93bb-4f4b-4f7a-bdd0-a8c064cdf550",
   "metadata": {},
   "source": [
    "'since in 2 columns there are no null values so we are going to develop model from the data by giving it to an algorithm'"
   ]
  },
  {
   "cell_type": "markdown",
   "id": "4ab83698-ca44-4bbc-abd7-e3b77a5ebd8d",
   "metadata": {},
   "source": [
    "'can i give data -------> y=mx+c [no it is not a proper way ] we need to develop a generalized model so we need to follow some steps'"
   ]
  },
  {
   "cell_type": "markdown",
   "id": "2c055eac-eff7-4d33-afff-5f56e3353415",
   "metadata": {},
   "source": [
    "'so we can use a technique called train_test_split concept'"
   ]
  },
  {
   "cell_type": "code",
   "execution_count": 4,
   "id": "b7373bd4-fe38-41ab-82f0-fc49cf3283e9",
   "metadata": {},
   "outputs": [
    {
     "name": "stdout",
     "output_type": "stream",
     "text": [
      "<class 'pandas.core.frame.DataFrame'>\n",
      "RangeIndex: 30 entries, 0 to 29\n",
      "Data columns (total 2 columns):\n",
      " #   Column           Non-Null Count  Dtype  \n",
      "---  ------           --------------  -----  \n",
      " 0   YearsExperience  30 non-null     float64\n",
      " 1   Salary           30 non-null     float64\n",
      "dtypes: float64(2)\n",
      "memory usage: 612.0 bytes\n"
     ]
    }
   ],
   "source": [
    "df.info()"
   ]
  },
  {
   "cell_type": "markdown",
   "id": "21cfb956-38c4-4ebe-a067-5826a6e2c330",
   "metadata": {},
   "source": [
    "'I am spliting the data into 2 pieces ex: train and test'"
   ]
  },
  {
   "cell_type": "code",
   "execution_count": 5,
   "id": "94209918-1dea-4d24-8f12-a6835367f0e2",
   "metadata": {},
   "outputs": [],
   "source": [
    "# since we are working with simple linear regression where we are having x and y[x - independent , y - dependent]"
   ]
  },
  {
   "cell_type": "code",
   "execution_count": 6,
   "id": "027de077-c048-49d8-b290-fe296beea7e1",
   "metadata": {},
   "outputs": [],
   "source": [
    "import sklearn"
   ]
  },
  {
   "cell_type": "code",
   "execution_count": 7,
   "id": "fb6da1a0-4325-4e6d-aaf8-82f0e852b098",
   "metadata": {},
   "outputs": [],
   "source": [
    "# for spliting the data\n",
    "from sklearn.model_selection import train_test_split"
   ]
  },
  {
   "cell_type": "markdown",
   "id": "43530ea5-9e58-4bfd-8546-c5ea8fafd703",
   "metadata": {},
   "source": [
    "'give your independent data to the x and dependent to the y'"
   ]
  },
  {
   "cell_type": "code",
   "execution_count": 8,
   "id": "ec899bb6-218e-433f-96cb-accb5691501c",
   "metadata": {},
   "outputs": [],
   "source": [
    "\n",
    "x = df['YearsExperience'] # independent\n",
    "y = df['Salary'] # dependent"
   ]
  },
  {
   "cell_type": "code",
   "execution_count": 9,
   "id": "c2642d7b-857b-4fce-a12e-1b84d54a4e2e",
   "metadata": {},
   "outputs": [],
   "source": [
    "x = x.values.reshape(-1,1)"
   ]
  },
  {
   "cell_type": "code",
   "execution_count": 10,
   "id": "17b7e379-310e-47b1-bc1e-87235c61c08f",
   "metadata": {},
   "outputs": [
    {
     "data": {
      "text/plain": [
       "(30, 1)"
      ]
     },
     "execution_count": 10,
     "metadata": {},
     "output_type": "execute_result"
    }
   ],
   "source": [
    "x.shape"
   ]
  },
  {
   "cell_type": "code",
   "execution_count": 11,
   "id": "c10bc356-885d-4535-b39f-fb61a334cb11",
   "metadata": {},
   "outputs": [],
   "source": [
    "x_train,x_test,y_train,y_test=train_test_split(x,y,test_size=0.2, random_state=42)\n"
   ]
  },
  {
   "cell_type": "code",
   "execution_count": 12,
   "id": "4c0e2652-c3e4-49d8-ac14-ab9f75e0053a",
   "metadata": {},
   "outputs": [],
   "source": [
    "# since previously it is 1d created data frame\n",
    "# now x is 2d so data frame will work only with 1d\n",
    "# make 2d-1d temporarily"
   ]
  },
  {
   "cell_type": "code",
   "execution_count": 13,
   "id": "b28605a2-daca-4005-9b61-c339f33850d6",
   "metadata": {},
   "outputs": [
    {
     "data": {
      "text/plain": [
       "(24, 1)"
      ]
     },
     "execution_count": 13,
     "metadata": {},
     "output_type": "execute_result"
    }
   ],
   "source": [
    "x_train.shape"
   ]
  },
  {
   "cell_type": "code",
   "execution_count": 14,
   "id": "c6e9876f-f1ae-4403-9353-f014d3283c63",
   "metadata": {},
   "outputs": [],
   "source": [
    "training_data=pd.DataFrame({'X_train':x_train.flatten() , 'Y_train':y_train})"
   ]
  },
  {
   "cell_type": "code",
   "execution_count": 15,
   "id": "40c05866-f2bd-4bf1-8121-7f232510e88a",
   "metadata": {},
   "outputs": [
    {
     "data": {
      "text/html": [
       "<div>\n",
       "<style scoped>\n",
       "    .dataframe tbody tr th:only-of-type {\n",
       "        vertical-align: middle;\n",
       "    }\n",
       "\n",
       "    .dataframe tbody tr th {\n",
       "        vertical-align: top;\n",
       "    }\n",
       "\n",
       "    .dataframe thead th {\n",
       "        text-align: right;\n",
       "    }\n",
       "</style>\n",
       "<table border=\"1\" class=\"dataframe\">\n",
       "  <thead>\n",
       "    <tr style=\"text-align: right;\">\n",
       "      <th></th>\n",
       "      <th>X_train</th>\n",
       "      <th>Y_train</th>\n",
       "    </tr>\n",
       "  </thead>\n",
       "  <tbody>\n",
       "    <tr>\n",
       "      <th>28</th>\n",
       "      <td>10.3</td>\n",
       "      <td>122391.0</td>\n",
       "    </tr>\n",
       "    <tr>\n",
       "      <th>24</th>\n",
       "      <td>8.7</td>\n",
       "      <td>109431.0</td>\n",
       "    </tr>\n",
       "    <tr>\n",
       "      <th>12</th>\n",
       "      <td>4.0</td>\n",
       "      <td>56957.0</td>\n",
       "    </tr>\n",
       "    <tr>\n",
       "      <th>0</th>\n",
       "      <td>1.1</td>\n",
       "      <td>39343.0</td>\n",
       "    </tr>\n",
       "    <tr>\n",
       "      <th>4</th>\n",
       "      <td>2.2</td>\n",
       "      <td>39891.0</td>\n",
       "    </tr>\n",
       "    <tr>\n",
       "      <th>16</th>\n",
       "      <td>5.1</td>\n",
       "      <td>66029.0</td>\n",
       "    </tr>\n",
       "    <tr>\n",
       "      <th>5</th>\n",
       "      <td>2.9</td>\n",
       "      <td>56642.0</td>\n",
       "    </tr>\n",
       "    <tr>\n",
       "      <th>13</th>\n",
       "      <td>4.1</td>\n",
       "      <td>57081.0</td>\n",
       "    </tr>\n",
       "    <tr>\n",
       "      <th>11</th>\n",
       "      <td>4.0</td>\n",
       "      <td>55794.0</td>\n",
       "    </tr>\n",
       "    <tr>\n",
       "      <th>22</th>\n",
       "      <td>7.9</td>\n",
       "      <td>101302.0</td>\n",
       "    </tr>\n",
       "    <tr>\n",
       "      <th>1</th>\n",
       "      <td>1.3</td>\n",
       "      <td>46205.0</td>\n",
       "    </tr>\n",
       "    <tr>\n",
       "      <th>2</th>\n",
       "      <td>1.5</td>\n",
       "      <td>37731.0</td>\n",
       "    </tr>\n",
       "    <tr>\n",
       "      <th>25</th>\n",
       "      <td>9.0</td>\n",
       "      <td>105582.0</td>\n",
       "    </tr>\n",
       "    <tr>\n",
       "      <th>3</th>\n",
       "      <td>2.0</td>\n",
       "      <td>43525.0</td>\n",
       "    </tr>\n",
       "    <tr>\n",
       "      <th>21</th>\n",
       "      <td>7.1</td>\n",
       "      <td>98273.0</td>\n",
       "    </tr>\n",
       "    <tr>\n",
       "      <th>26</th>\n",
       "      <td>9.5</td>\n",
       "      <td>116969.0</td>\n",
       "    </tr>\n",
       "    <tr>\n",
       "      <th>18</th>\n",
       "      <td>5.9</td>\n",
       "      <td>81363.0</td>\n",
       "    </tr>\n",
       "    <tr>\n",
       "      <th>29</th>\n",
       "      <td>10.5</td>\n",
       "      <td>121872.0</td>\n",
       "    </tr>\n",
       "    <tr>\n",
       "      <th>20</th>\n",
       "      <td>6.8</td>\n",
       "      <td>91738.0</td>\n",
       "    </tr>\n",
       "    <tr>\n",
       "      <th>7</th>\n",
       "      <td>3.2</td>\n",
       "      <td>54445.0</td>\n",
       "    </tr>\n",
       "    <tr>\n",
       "      <th>10</th>\n",
       "      <td>3.9</td>\n",
       "      <td>63218.0</td>\n",
       "    </tr>\n",
       "    <tr>\n",
       "      <th>14</th>\n",
       "      <td>4.5</td>\n",
       "      <td>61111.0</td>\n",
       "    </tr>\n",
       "    <tr>\n",
       "      <th>19</th>\n",
       "      <td>6.0</td>\n",
       "      <td>93940.0</td>\n",
       "    </tr>\n",
       "    <tr>\n",
       "      <th>6</th>\n",
       "      <td>3.0</td>\n",
       "      <td>60150.0</td>\n",
       "    </tr>\n",
       "  </tbody>\n",
       "</table>\n",
       "</div>"
      ],
      "text/plain": [
       "    X_train   Y_train\n",
       "28     10.3  122391.0\n",
       "24      8.7  109431.0\n",
       "12      4.0   56957.0\n",
       "0       1.1   39343.0\n",
       "4       2.2   39891.0\n",
       "16      5.1   66029.0\n",
       "5       2.9   56642.0\n",
       "13      4.1   57081.0\n",
       "11      4.0   55794.0\n",
       "22      7.9  101302.0\n",
       "1       1.3   46205.0\n",
       "2       1.5   37731.0\n",
       "25      9.0  105582.0\n",
       "3       2.0   43525.0\n",
       "21      7.1   98273.0\n",
       "26      9.5  116969.0\n",
       "18      5.9   81363.0\n",
       "29     10.5  121872.0\n",
       "20      6.8   91738.0\n",
       "7       3.2   54445.0\n",
       "10      3.9   63218.0\n",
       "14      4.5   61111.0\n",
       "19      6.0   93940.0\n",
       "6       3.0   60150.0"
      ]
     },
     "execution_count": 15,
     "metadata": {},
     "output_type": "execute_result"
    }
   ],
   "source": [
    "training_data"
   ]
  },
  {
   "cell_type": "code",
   "execution_count": 16,
   "id": "b31fb0e6-11ce-4103-a9b8-715c047de145",
   "metadata": {},
   "outputs": [],
   "source": [
    "test_data=pd.DataFrame({'X_test':x_test.flatten() , 'Y_test':y_test})"
   ]
  },
  {
   "cell_type": "code",
   "execution_count": 17,
   "id": "ec8d15f9-0903-4390-8bf4-6e27c5a3d067",
   "metadata": {},
   "outputs": [
    {
     "data": {
      "text/html": [
       "<div>\n",
       "<style scoped>\n",
       "    .dataframe tbody tr th:only-of-type {\n",
       "        vertical-align: middle;\n",
       "    }\n",
       "\n",
       "    .dataframe tbody tr th {\n",
       "        vertical-align: top;\n",
       "    }\n",
       "\n",
       "    .dataframe thead th {\n",
       "        text-align: right;\n",
       "    }\n",
       "</style>\n",
       "<table border=\"1\" class=\"dataframe\">\n",
       "  <thead>\n",
       "    <tr style=\"text-align: right;\">\n",
       "      <th></th>\n",
       "      <th>X_test</th>\n",
       "      <th>Y_test</th>\n",
       "    </tr>\n",
       "  </thead>\n",
       "  <tbody>\n",
       "    <tr>\n",
       "      <th>27</th>\n",
       "      <td>9.6</td>\n",
       "      <td>112635.0</td>\n",
       "    </tr>\n",
       "    <tr>\n",
       "      <th>15</th>\n",
       "      <td>4.9</td>\n",
       "      <td>67938.0</td>\n",
       "    </tr>\n",
       "    <tr>\n",
       "      <th>23</th>\n",
       "      <td>8.2</td>\n",
       "      <td>113812.0</td>\n",
       "    </tr>\n",
       "    <tr>\n",
       "      <th>17</th>\n",
       "      <td>5.3</td>\n",
       "      <td>83088.0</td>\n",
       "    </tr>\n",
       "    <tr>\n",
       "      <th>8</th>\n",
       "      <td>3.2</td>\n",
       "      <td>64445.0</td>\n",
       "    </tr>\n",
       "    <tr>\n",
       "      <th>9</th>\n",
       "      <td>3.7</td>\n",
       "      <td>57189.0</td>\n",
       "    </tr>\n",
       "  </tbody>\n",
       "</table>\n",
       "</div>"
      ],
      "text/plain": [
       "    X_test    Y_test\n",
       "27     9.6  112635.0\n",
       "15     4.9   67938.0\n",
       "23     8.2  113812.0\n",
       "17     5.3   83088.0\n",
       "8      3.2   64445.0\n",
       "9      3.7   57189.0"
      ]
     },
     "execution_count": 17,
     "metadata": {},
     "output_type": "execute_result"
    }
   ],
   "source": [
    "test_data"
   ]
  },
  {
   "cell_type": "code",
   "execution_count": 18,
   "id": "e98d6f64-ec85-4ff4-b2e1-ace61333bd09",
   "metadata": {},
   "outputs": [
    {
     "data": {
      "text/plain": [
       "24"
      ]
     },
     "execution_count": 18,
     "metadata": {},
     "output_type": "execute_result"
    }
   ],
   "source": [
    "len(x_train)"
   ]
  },
  {
   "cell_type": "code",
   "execution_count": 19,
   "id": "e873bb21-9e6f-4230-8196-ff972c776a89",
   "metadata": {},
   "outputs": [
    {
     "data": {
      "text/plain": [
       "6"
      ]
     },
     "execution_count": 19,
     "metadata": {},
     "output_type": "execute_result"
    }
   ],
   "source": [
    "len(x_test)"
   ]
  },
  {
   "cell_type": "markdown",
   "id": "1f9347ca-786f-4da6-bf03-ddd7f2212a91",
   "metadata": {},
   "source": [
    "know i am using this training data to train the algorithm"
   ]
  },
  {
   "cell_type": "code",
   "execution_count": 20,
   "id": "d59c713b-3623-4061-b0fa-0ceda178bd81",
   "metadata": {},
   "outputs": [],
   "source": [
    "# y = mx+c = sklearn documentation"
   ]
  },
  {
   "cell_type": "markdown",
   "id": "d58dc349-1032-4391-a9ac-667408be5c3c",
   "metadata": {},
   "source": [
    "'now i am using this training data to train the algorithm'"
   ]
  },
  {
   "cell_type": "code",
   "execution_count": 21,
   "id": "27075c6b-76b1-46a4-90ee-3628819f5740",
   "metadata": {},
   "outputs": [],
   "source": [
    "# y=mx+c = scikit - learn.......Linear regression[official documentation]"
   ]
  },
  {
   "cell_type": "code",
   "execution_count": 22,
   "id": "5152526b-3dc5-4d8d-ac83-17c7f09a740a",
   "metadata": {},
   "outputs": [],
   "source": [
    "from sklearn.linear_model import LinearRegression\n",
    "# importing the algorithm"
   ]
  },
  {
   "cell_type": "code",
   "execution_count": 23,
   "id": "a9b3fb54-0c90-4c97-be1c-e4f898314450",
   "metadata": {},
   "outputs": [],
   "source": [
    "reg= LinearRegression()"
   ]
  },
  {
   "cell_type": "code",
   "execution_count": 24,
   "id": "9eada46e-1e65-4f61-99ee-82fab650c8a1",
   "metadata": {},
   "outputs": [
    {
     "data": {
      "text/html": [
       "<style>#sk-container-id-1 {color: black;background-color: white;}#sk-container-id-1 pre{padding: 0;}#sk-container-id-1 div.sk-toggleable {background-color: white;}#sk-container-id-1 label.sk-toggleable__label {cursor: pointer;display: block;width: 100%;margin-bottom: 0;padding: 0.3em;box-sizing: border-box;text-align: center;}#sk-container-id-1 label.sk-toggleable__label-arrow:before {content: \"▸\";float: left;margin-right: 0.25em;color: #696969;}#sk-container-id-1 label.sk-toggleable__label-arrow:hover:before {color: black;}#sk-container-id-1 div.sk-estimator:hover label.sk-toggleable__label-arrow:before {color: black;}#sk-container-id-1 div.sk-toggleable__content {max-height: 0;max-width: 0;overflow: hidden;text-align: left;background-color: #f0f8ff;}#sk-container-id-1 div.sk-toggleable__content pre {margin: 0.2em;color: black;border-radius: 0.25em;background-color: #f0f8ff;}#sk-container-id-1 input.sk-toggleable__control:checked~div.sk-toggleable__content {max-height: 200px;max-width: 100%;overflow: auto;}#sk-container-id-1 input.sk-toggleable__control:checked~label.sk-toggleable__label-arrow:before {content: \"▾\";}#sk-container-id-1 div.sk-estimator input.sk-toggleable__control:checked~label.sk-toggleable__label {background-color: #d4ebff;}#sk-container-id-1 div.sk-label input.sk-toggleable__control:checked~label.sk-toggleable__label {background-color: #d4ebff;}#sk-container-id-1 input.sk-hidden--visually {border: 0;clip: rect(1px 1px 1px 1px);clip: rect(1px, 1px, 1px, 1px);height: 1px;margin: -1px;overflow: hidden;padding: 0;position: absolute;width: 1px;}#sk-container-id-1 div.sk-estimator {font-family: monospace;background-color: #f0f8ff;border: 1px dotted black;border-radius: 0.25em;box-sizing: border-box;margin-bottom: 0.5em;}#sk-container-id-1 div.sk-estimator:hover {background-color: #d4ebff;}#sk-container-id-1 div.sk-parallel-item::after {content: \"\";width: 100%;border-bottom: 1px solid gray;flex-grow: 1;}#sk-container-id-1 div.sk-label:hover label.sk-toggleable__label {background-color: #d4ebff;}#sk-container-id-1 div.sk-serial::before {content: \"\";position: absolute;border-left: 1px solid gray;box-sizing: border-box;top: 0;bottom: 0;left: 50%;z-index: 0;}#sk-container-id-1 div.sk-serial {display: flex;flex-direction: column;align-items: center;background-color: white;padding-right: 0.2em;padding-left: 0.2em;position: relative;}#sk-container-id-1 div.sk-item {position: relative;z-index: 1;}#sk-container-id-1 div.sk-parallel {display: flex;align-items: stretch;justify-content: center;background-color: white;position: relative;}#sk-container-id-1 div.sk-item::before, #sk-container-id-1 div.sk-parallel-item::before {content: \"\";position: absolute;border-left: 1px solid gray;box-sizing: border-box;top: 0;bottom: 0;left: 50%;z-index: -1;}#sk-container-id-1 div.sk-parallel-item {display: flex;flex-direction: column;z-index: 1;position: relative;background-color: white;}#sk-container-id-1 div.sk-parallel-item:first-child::after {align-self: flex-end;width: 50%;}#sk-container-id-1 div.sk-parallel-item:last-child::after {align-self: flex-start;width: 50%;}#sk-container-id-1 div.sk-parallel-item:only-child::after {width: 0;}#sk-container-id-1 div.sk-dashed-wrapped {border: 1px dashed gray;margin: 0 0.4em 0.5em 0.4em;box-sizing: border-box;padding-bottom: 0.4em;background-color: white;}#sk-container-id-1 div.sk-label label {font-family: monospace;font-weight: bold;display: inline-block;line-height: 1.2em;}#sk-container-id-1 div.sk-label-container {text-align: center;}#sk-container-id-1 div.sk-container {/* jupyter's `normalize.less` sets `[hidden] { display: none; }` but bootstrap.min.css set `[hidden] { display: none !important; }` so we also need the `!important` here to be able to override the default hidden behavior on the sphinx rendered scikit-learn.org. See: https://github.com/scikit-learn/scikit-learn/issues/21755 */display: inline-block !important;position: relative;}#sk-container-id-1 div.sk-text-repr-fallback {display: none;}</style><div id=\"sk-container-id-1\" class=\"sk-top-container\"><div class=\"sk-text-repr-fallback\"><pre>LinearRegression()</pre><b>In a Jupyter environment, please rerun this cell to show the HTML representation or trust the notebook. <br />On GitHub, the HTML representation is unable to render, please try loading this page with nbviewer.org.</b></div><div class=\"sk-container\" hidden><div class=\"sk-item\"><div class=\"sk-estimator sk-toggleable\"><input class=\"sk-toggleable__control sk-hidden--visually\" id=\"sk-estimator-id-1\" type=\"checkbox\" checked><label for=\"sk-estimator-id-1\" class=\"sk-toggleable__label sk-toggleable__label-arrow\">LinearRegression</label><div class=\"sk-toggleable__content\"><pre>LinearRegression()</pre></div></div></div></div></div>"
      ],
      "text/plain": [
       "LinearRegression()"
      ]
     },
     "execution_count": 24,
     "metadata": {},
     "output_type": "execute_result"
    }
   ],
   "source": [
    "# now reg is y=mx+c\n",
    "\n",
    "# now i am going to give data to algorithm\n",
    "\n",
    "reg.fit(x_train , y_train)"
   ]
  },
  {
   "cell_type": "markdown",
   "id": "74e22b35-22ae-4b6d-9cec-147d3a5dcfd6",
   "metadata": {},
   "source": [
    "'algorithm learned from the data'\n",
    "now check do it learned or not"
   ]
  },
  {
   "cell_type": "code",
   "execution_count": 25,
   "id": "3db29af6-a03b-4395-b496-9123a8611827",
   "metadata": {},
   "outputs": [],
   "source": [
    "# y=mx+c"
   ]
  },
  {
   "cell_type": "code",
   "execution_count": 26,
   "id": "8caa649d-3136-489c-ae5d-198967c234cb",
   "metadata": {},
   "outputs": [
    {
     "data": {
      "text/plain": [
       "array([9423.81532303])"
      ]
     },
     "execution_count": 26,
     "metadata": {},
     "output_type": "execute_result"
    }
   ],
   "source": [
    "# m - value\n",
    "reg.coef_"
   ]
  },
  {
   "cell_type": "code",
   "execution_count": 27,
   "id": "a046381e-d517-4edc-b67d-2a82a6b9e9fb",
   "metadata": {},
   "outputs": [
    {
     "data": {
      "text/plain": [
       "25321.583011776813"
      ]
     },
     "execution_count": 27,
     "metadata": {},
     "output_type": "execute_result"
    }
   ],
   "source": [
    "#c-value\n",
    "reg.intercept_"
   ]
  },
  {
   "cell_type": "code",
   "execution_count": 28,
   "id": "41e3b4c1-2cbb-40ae-8bb8-415c505c7134",
   "metadata": {},
   "outputs": [],
   "source": [
    "#y = mx+c\n",
    "\n",
    "#y = 9423.81532303*x + 25321.583011776813 [model]"
   ]
  },
  {
   "cell_type": "markdown",
   "id": "a2510e3c-1329-42f5-960e-9d743d19b2c8",
   "metadata": {},
   "source": [
    "we just trained the model but we need to also check whether it trained properly or not:"
   ]
  },
  {
   "cell_type": "code",
   "execution_count": 29,
   "id": "169f6737-7581-467f-b038-15eecd5128ae",
   "metadata": {},
   "outputs": [],
   "source": [
    "# Now we will see how the training data looks like\n",
    "\n",
    "# I am using x_train and y_train for graphical representation to check how they are internally related"
   ]
  },
  {
   "cell_type": "code",
   "execution_count": 30,
   "id": "3f883f03-245b-433f-866a-2efff54fb04a",
   "metadata": {},
   "outputs": [
    {
     "data": {
      "text/plain": [
       "<function matplotlib.pyplot.show(close=None, block=None)>"
      ]
     },
     "execution_count": 30,
     "metadata": {},
     "output_type": "execute_result"
    },
    {
     "data": {
      "image/png": "[encoded data removed]",
      "text/plain": [
       "<Figure size 400x300 with 1 Axes>"
      ]
     },
     "metadata": {},
     "output_type": "display_data"
    }
   ],
   "source": [
    "plt.figure(figsize = (4,3))\n",
    "plt.scatter(x = x_train , y = y_train , color = 'r')\n",
    "plt.title('Simple Linear Regression')\n",
    "plt.xlabel('x_train')\n",
    "plt.ylabel('y_train')\n",
    "plt.show"
   ]
  },
  {
   "cell_type": "markdown",
   "id": "441343d0-b248-46dc-95dd-7354a5e8bd6a",
   "metadata": {},
   "source": [
    "since x points are increasing y is increasing we can say it is a positive co variance"
   ]
  },
  {
   "cell_type": "code",
   "execution_count": 31,
   "id": "61eb2b97-6724-4572-a986-db96ad96f4e7",
   "metadata": {},
   "outputs": [
    {
     "data": {
      "text/plain": [
       "array([[10.3],\n",
       "       [ 8.7],\n",
       "       [ 4. ],\n",
       "       [ 1.1],\n",
       "       [ 2.2],\n",
       "       [ 5.1],\n",
       "       [ 2.9],\n",
       "       [ 4.1],\n",
       "       [ 4. ],\n",
       "       [ 7.9],\n",
       "       [ 1.3],\n",
       "       [ 1.5],\n",
       "       [ 9. ],\n",
       "       [ 2. ],\n",
       "       [ 7.1],\n",
       "       [ 9.5],\n",
       "       [ 5.9],\n",
       "       [10.5],\n",
       "       [ 6.8],\n",
       "       [ 3.2],\n",
       "       [ 3.9],\n",
       "       [ 4.5],\n",
       "       [ 6. ],\n",
       "       [ 3. ]])"
      ]
     },
     "execution_count": 31,
     "metadata": {},
     "output_type": "execute_result"
    }
   ],
   "source": [
    "x_train"
   ]
  },
  {
   "cell_type": "code",
   "execution_count": 32,
   "id": "8879c6ce-d873-4d05-9eb9-a5934347ee14",
   "metadata": {},
   "outputs": [
    {
     "data": {
      "text/html": [
       "<div>\n",
       "<style scoped>\n",
       "    .dataframe tbody tr th:only-of-type {\n",
       "        vertical-align: middle;\n",
       "    }\n",
       "\n",
       "    .dataframe tbody tr th {\n",
       "        vertical-align: top;\n",
       "    }\n",
       "\n",
       "    .dataframe thead th {\n",
       "        text-align: right;\n",
       "    }\n",
       "</style>\n",
       "<table border=\"1\" class=\"dataframe\">\n",
       "  <thead>\n",
       "    <tr style=\"text-align: right;\">\n",
       "      <th></th>\n",
       "      <th>X_train</th>\n",
       "      <th>Y_train</th>\n",
       "    </tr>\n",
       "  </thead>\n",
       "  <tbody>\n",
       "    <tr>\n",
       "      <th>28</th>\n",
       "      <td>10.3</td>\n",
       "      <td>122391.0</td>\n",
       "    </tr>\n",
       "    <tr>\n",
       "      <th>24</th>\n",
       "      <td>8.7</td>\n",
       "      <td>109431.0</td>\n",
       "    </tr>\n",
       "    <tr>\n",
       "      <th>12</th>\n",
       "      <td>4.0</td>\n",
       "      <td>56957.0</td>\n",
       "    </tr>\n",
       "    <tr>\n",
       "      <th>0</th>\n",
       "      <td>1.1</td>\n",
       "      <td>39343.0</td>\n",
       "    </tr>\n",
       "    <tr>\n",
       "      <th>4</th>\n",
       "      <td>2.2</td>\n",
       "      <td>39891.0</td>\n",
       "    </tr>\n",
       "  </tbody>\n",
       "</table>\n",
       "</div>"
      ],
      "text/plain": [
       "    X_train   Y_train\n",
       "28     10.3  122391.0\n",
       "24      8.7  109431.0\n",
       "12      4.0   56957.0\n",
       "0       1.1   39343.0\n",
       "4       2.2   39891.0"
      ]
     },
     "execution_count": 32,
     "metadata": {},
     "output_type": "execute_result"
    }
   ],
   "source": [
    "training_data.head()"
   ]
  },
  {
   "cell_type": "code",
   "execution_count": 33,
   "id": "a8c47eeb-1c70-430a-aae8-e71f59688a51",
   "metadata": {},
   "outputs": [
    {
     "data": {
      "text/plain": [
       "122386.88083898582"
      ]
     },
     "execution_count": 33,
     "metadata": {},
     "output_type": "execute_result"
    }
   ],
   "source": [
    "9423.81532303 * 10.3 + 25321.583011776813"
   ]
  },
  {
   "cell_type": "code",
   "execution_count": 34,
   "id": "639a690c-b85f-4f19-88bd-d74fd0fede43",
   "metadata": {},
   "outputs": [
    {
     "name": "stdout",
     "output_type": "stream",
     "text": [
      "[122386.880839   107308.77632215  63016.8443039   35687.77986711\n",
      "  46053.97672244  73383.04115923  52650.64744857  63959.2258362\n",
      "  63016.8443039   99769.72406372  37572.54293172  39457.30599632\n",
      " 110135.92091906  44169.21365784  92230.6718053  114847.82858057\n",
      "  80922.09341766 124271.6439036   89403.52720839  55477.79204548\n",
      "  62074.4627716   67728.75196542  81864.47494996  53593.02898087]\n"
     ]
    }
   ],
   "source": [
    "# making train predictions:\n",
    "\n",
    "y_train_predictions = reg.predict(x_train)\n",
    "print(y_train_predictions)"
   ]
  },
  {
   "cell_type": "code",
   "execution_count": 35,
   "id": "904dc2e2-38db-4c98-b3a8-7837abce3883",
   "metadata": {},
   "outputs": [],
   "source": [
    "training_data['y_train_predictions'] = y_train_predictions"
   ]
  },
  {
   "cell_type": "code",
   "execution_count": 36,
   "id": "56a03c24-219d-420c-92ed-f41fd496e4dc",
   "metadata": {},
   "outputs": [
    {
     "data": {
      "text/html": [
       "<div>\n",
       "<style scoped>\n",
       "    .dataframe tbody tr th:only-of-type {\n",
       "        vertical-align: middle;\n",
       "    }\n",
       "\n",
       "    .dataframe tbody tr th {\n",
       "        vertical-align: top;\n",
       "    }\n",
       "\n",
       "    .dataframe thead th {\n",
       "        text-align: right;\n",
       "    }\n",
       "</style>\n",
       "<table border=\"1\" class=\"dataframe\">\n",
       "  <thead>\n",
       "    <tr style=\"text-align: right;\">\n",
       "      <th></th>\n",
       "      <th>X_train</th>\n",
       "      <th>Y_train</th>\n",
       "      <th>y_train_predictions</th>\n",
       "    </tr>\n",
       "  </thead>\n",
       "  <tbody>\n",
       "    <tr>\n",
       "      <th>28</th>\n",
       "      <td>10.3</td>\n",
       "      <td>122391.0</td>\n",
       "      <td>122386.880839</td>\n",
       "    </tr>\n",
       "    <tr>\n",
       "      <th>24</th>\n",
       "      <td>8.7</td>\n",
       "      <td>109431.0</td>\n",
       "      <td>107308.776322</td>\n",
       "    </tr>\n",
       "    <tr>\n",
       "      <th>12</th>\n",
       "      <td>4.0</td>\n",
       "      <td>56957.0</td>\n",
       "      <td>63016.844304</td>\n",
       "    </tr>\n",
       "    <tr>\n",
       "      <th>0</th>\n",
       "      <td>1.1</td>\n",
       "      <td>39343.0</td>\n",
       "      <td>35687.779867</td>\n",
       "    </tr>\n",
       "    <tr>\n",
       "      <th>4</th>\n",
       "      <td>2.2</td>\n",
       "      <td>39891.0</td>\n",
       "      <td>46053.976722</td>\n",
       "    </tr>\n",
       "    <tr>\n",
       "      <th>16</th>\n",
       "      <td>5.1</td>\n",
       "      <td>66029.0</td>\n",
       "      <td>73383.041159</td>\n",
       "    </tr>\n",
       "    <tr>\n",
       "      <th>5</th>\n",
       "      <td>2.9</td>\n",
       "      <td>56642.0</td>\n",
       "      <td>52650.647449</td>\n",
       "    </tr>\n",
       "    <tr>\n",
       "      <th>13</th>\n",
       "      <td>4.1</td>\n",
       "      <td>57081.0</td>\n",
       "      <td>63959.225836</td>\n",
       "    </tr>\n",
       "    <tr>\n",
       "      <th>11</th>\n",
       "      <td>4.0</td>\n",
       "      <td>55794.0</td>\n",
       "      <td>63016.844304</td>\n",
       "    </tr>\n",
       "    <tr>\n",
       "      <th>22</th>\n",
       "      <td>7.9</td>\n",
       "      <td>101302.0</td>\n",
       "      <td>99769.724064</td>\n",
       "    </tr>\n",
       "    <tr>\n",
       "      <th>1</th>\n",
       "      <td>1.3</td>\n",
       "      <td>46205.0</td>\n",
       "      <td>37572.542932</td>\n",
       "    </tr>\n",
       "    <tr>\n",
       "      <th>2</th>\n",
       "      <td>1.5</td>\n",
       "      <td>37731.0</td>\n",
       "      <td>39457.305996</td>\n",
       "    </tr>\n",
       "    <tr>\n",
       "      <th>25</th>\n",
       "      <td>9.0</td>\n",
       "      <td>105582.0</td>\n",
       "      <td>110135.920919</td>\n",
       "    </tr>\n",
       "    <tr>\n",
       "      <th>3</th>\n",
       "      <td>2.0</td>\n",
       "      <td>43525.0</td>\n",
       "      <td>44169.213658</td>\n",
       "    </tr>\n",
       "    <tr>\n",
       "      <th>21</th>\n",
       "      <td>7.1</td>\n",
       "      <td>98273.0</td>\n",
       "      <td>92230.671805</td>\n",
       "    </tr>\n",
       "    <tr>\n",
       "      <th>26</th>\n",
       "      <td>9.5</td>\n",
       "      <td>116969.0</td>\n",
       "      <td>114847.828581</td>\n",
       "    </tr>\n",
       "    <tr>\n",
       "      <th>18</th>\n",
       "      <td>5.9</td>\n",
       "      <td>81363.0</td>\n",
       "      <td>80922.093418</td>\n",
       "    </tr>\n",
       "    <tr>\n",
       "      <th>29</th>\n",
       "      <td>10.5</td>\n",
       "      <td>121872.0</td>\n",
       "      <td>124271.643904</td>\n",
       "    </tr>\n",
       "    <tr>\n",
       "      <th>20</th>\n",
       "      <td>6.8</td>\n",
       "      <td>91738.0</td>\n",
       "      <td>89403.527208</td>\n",
       "    </tr>\n",
       "    <tr>\n",
       "      <th>7</th>\n",
       "      <td>3.2</td>\n",
       "      <td>54445.0</td>\n",
       "      <td>55477.792045</td>\n",
       "    </tr>\n",
       "    <tr>\n",
       "      <th>10</th>\n",
       "      <td>3.9</td>\n",
       "      <td>63218.0</td>\n",
       "      <td>62074.462772</td>\n",
       "    </tr>\n",
       "    <tr>\n",
       "      <th>14</th>\n",
       "      <td>4.5</td>\n",
       "      <td>61111.0</td>\n",
       "      <td>67728.751965</td>\n",
       "    </tr>\n",
       "    <tr>\n",
       "      <th>19</th>\n",
       "      <td>6.0</td>\n",
       "      <td>93940.0</td>\n",
       "      <td>81864.474950</td>\n",
       "    </tr>\n",
       "    <tr>\n",
       "      <th>6</th>\n",
       "      <td>3.0</td>\n",
       "      <td>60150.0</td>\n",
       "      <td>53593.028981</td>\n",
       "    </tr>\n",
       "  </tbody>\n",
       "</table>\n",
       "</div>"
      ],
      "text/plain": [
       "    X_train   Y_train  y_train_predictions\n",
       "28     10.3  122391.0        122386.880839\n",
       "24      8.7  109431.0        107308.776322\n",
       "12      4.0   56957.0         63016.844304\n",
       "0       1.1   39343.0         35687.779867\n",
       "4       2.2   39891.0         46053.976722\n",
       "16      5.1   66029.0         73383.041159\n",
       "5       2.9   56642.0         52650.647449\n",
       "13      4.1   57081.0         63959.225836\n",
       "11      4.0   55794.0         63016.844304\n",
       "22      7.9  101302.0         99769.724064\n",
       "1       1.3   46205.0         37572.542932\n",
       "2       1.5   37731.0         39457.305996\n",
       "25      9.0  105582.0        110135.920919\n",
       "3       2.0   43525.0         44169.213658\n",
       "21      7.1   98273.0         92230.671805\n",
       "26      9.5  116969.0        114847.828581\n",
       "18      5.9   81363.0         80922.093418\n",
       "29     10.5  121872.0        124271.643904\n",
       "20      6.8   91738.0         89403.527208\n",
       "7       3.2   54445.0         55477.792045\n",
       "10      3.9   63218.0         62074.462772\n",
       "14      4.5   61111.0         67728.751965\n",
       "19      6.0   93940.0         81864.474950\n",
       "6       3.0   60150.0         53593.028981"
      ]
     },
     "execution_count": 36,
     "metadata": {},
     "output_type": "execute_result"
    }
   ],
   "source": [
    "training_data"
   ]
  },
  {
   "cell_type": "markdown",
   "id": "c87bd29f-2d34-4ca0-a049-a1bcea078295",
   "metadata": {},
   "source": [
    "not only actual data will represent prediction points also"
   ]
  },
  {
   "cell_type": "code",
   "execution_count": 39,
   "id": "7175e3b0-4a85-4cc0-afdc-d0ac86726434",
   "metadata": {},
   "outputs": [
    {
     "data": {
      "text/plain": [
       "<function matplotlib.pyplot.show(close=None, block=None)>"
      ]
     },
     "execution_count": 39,
     "metadata": {},
     "output_type": "execute_result"
    },
    {
     "data": {
      "image/png": "[encoded data removed]",
      "text/plain": [
       "<Figure size 400x300 with 1 Axes>"
      ]
     },
     "metadata": {},
     "output_type": "display_data"
    }
   ],
   "source": [
    "plt.figure(figsize = (4,3))\n",
    "plt.scatter(x = x_train , y = y_train , color = 'r')\n",
    "plt.scatter(x = x_train , y = y_train_predictions , color = 'b')\n",
    "plt.title('Simple Linear Regression')\n",
    "plt.xlabel('x_train')\n",
    "plt.ylabel('y_train')\n",
    "plt.show"
   ]
  },
  {
   "cell_type": "code",
   "execution_count": 40,
   "id": "4b49be0c-f8af-4706-a4cf-2a04d1f6be1a",
   "metadata": {},
   "outputs": [],
   "source": [
    "# then find the training loss:\n",
    "\n",
    "\n",
    "from sklearn.metrics import r2_score # is used to find the accuracy of the model"
   ]
  },
  {
   "cell_type": "code",
   "execution_count": 41,
   "id": "31bb33b2-de8c-46fe-b2be-7dbef1f6a668",
   "metadata": {},
   "outputs": [
    {
     "name": "stdout",
     "output_type": "stream",
     "text": [
      " The model training accuracy is: 0.9645401573418146\n"
     ]
    }
   ],
   "source": [
    "print(f' The model training accuracy is: {r2_score(y_train , y_train_predictions)}')"
   ]
  },
  {
   "cell_type": "code",
   "execution_count": 42,
   "id": "a40ce478-67e4-4873-ac98-0da84d3eeaca",
   "metadata": {},
   "outputs": [
    {
     "name": "stdout",
     "output_type": "stream",
     "text": [
      "Training loss will be0.03545984265818536\n"
     ]
    }
   ],
   "source": [
    "# what is my loss then:\n",
    "\n",
    "# accuracy or loss both range from 0 to 1 :\n",
    "\n",
    "print(f'Training loss will be{1-r2_score(y_train , y_train_predictions)}')"
   ]
  },
  {
   "cell_type": "code",
   "execution_count": 43,
   "id": "a8faff00-b568-46d5-8a71-a2f6cc15e4c7",
   "metadata": {},
   "outputs": [
    {
     "data": {
      "text/plain": [
       "1.0"
      ]
     },
     "execution_count": 43,
     "metadata": {},
     "output_type": "execute_result"
    }
   ],
   "source": [
    "0.9645401573418146 + 0.03545984265818536"
   ]
  },
  {
   "cell_type": "markdown",
   "id": "900c247e-925a-49a0-be40-7d4e66265728",
   "metadata": {},
   "source": [
    "## now work with test data : [here will get how our model is]"
   ]
  },
  {
   "cell_type": "code",
   "execution_count": 45,
   "id": "6a3a67ae-a8b7-4e69-80b7-7cc44cfa47aa",
   "metadata": {},
   "outputs": [
    {
     "name": "stdout",
     "output_type": "stream",
     "text": [
      "[115790.21011287  71498.27809463 102596.86866063  75267.80422384\n",
      "  55477.79204548  60189.69970699]\n"
     ]
    }
   ],
   "source": [
    "y_test_predictions = reg.predict(x_test)\n",
    "print(y_test_predictions)"
   ]
  },
  {
   "cell_type": "code",
   "execution_count": 46,
   "id": "c2e0442c-1a76-4c5e-bb21-42f654db5c3b",
   "metadata": {},
   "outputs": [],
   "source": [
    "test_data['y_test_predictions'] = y_test_predictions"
   ]
  },
  {
   "cell_type": "code",
   "execution_count": 55,
   "id": "953bb4d9-05d2-4892-9344-65119dbfe6aa",
   "metadata": {},
   "outputs": [
    {
     "data": {
      "text/html": [
       "<div>\n",
       "<style scoped>\n",
       "    .dataframe tbody tr th:only-of-type {\n",
       "        vertical-align: middle;\n",
       "    }\n",
       "\n",
       "    .dataframe tbody tr th {\n",
       "        vertical-align: top;\n",
       "    }\n",
       "\n",
       "    .dataframe thead th {\n",
       "        text-align: right;\n",
       "    }\n",
       "</style>\n",
       "<table border=\"1\" class=\"dataframe\">\n",
       "  <thead>\n",
       "    <tr style=\"text-align: right;\">\n",
       "      <th></th>\n",
       "      <th>X_test</th>\n",
       "      <th>Y_test</th>\n",
       "      <th>y_test_predictions</th>\n",
       "    </tr>\n",
       "  </thead>\n",
       "  <tbody>\n",
       "    <tr>\n",
       "      <th>27</th>\n",
       "      <td>9.6</td>\n",
       "      <td>112635.0</td>\n",
       "      <td>115790.210113</td>\n",
       "    </tr>\n",
       "    <tr>\n",
       "      <th>15</th>\n",
       "      <td>4.9</td>\n",
       "      <td>67938.0</td>\n",
       "      <td>71498.278095</td>\n",
       "    </tr>\n",
       "    <tr>\n",
       "      <th>23</th>\n",
       "      <td>8.2</td>\n",
       "      <td>113812.0</td>\n",
       "      <td>102596.868661</td>\n",
       "    </tr>\n",
       "    <tr>\n",
       "      <th>17</th>\n",
       "      <td>5.3</td>\n",
       "      <td>83088.0</td>\n",
       "      <td>75267.804224</td>\n",
       "    </tr>\n",
       "    <tr>\n",
       "      <th>8</th>\n",
       "      <td>3.2</td>\n",
       "      <td>64445.0</td>\n",
       "      <td>55477.792045</td>\n",
       "    </tr>\n",
       "    <tr>\n",
       "      <th>9</th>\n",
       "      <td>3.7</td>\n",
       "      <td>57189.0</td>\n",
       "      <td>60189.699707</td>\n",
       "    </tr>\n",
       "  </tbody>\n",
       "</table>\n",
       "</div>"
      ],
      "text/plain": [
       "    X_test    Y_test  y_test_predictions\n",
       "27     9.6  112635.0       115790.210113\n",
       "15     4.9   67938.0        71498.278095\n",
       "23     8.2  113812.0       102596.868661\n",
       "17     5.3   83088.0        75267.804224\n",
       "8      3.2   64445.0        55477.792045\n",
       "9      3.7   57189.0        60189.699707"
      ]
     },
     "execution_count": 55,
     "metadata": {},
     "output_type": "execute_result"
    }
   ],
   "source": [
    "test_data"
   ]
  },
  {
   "cell_type": "code",
   "execution_count": 51,
   "id": "751eacc7-bd72-4ed7-a620-df92ce59fe52",
   "metadata": {},
   "outputs": [
    {
     "name": "stdout",
     "output_type": "stream",
     "text": [
      "The Test accuracy : 0.9024461774180497\n"
     ]
    }
   ],
   "source": [
    "#finding the test accuracy:\n",
    "\n",
    "print(f'The Test accuracy : {r2_score(y_test , y_test_predictions)}')"
   ]
  },
  {
   "cell_type": "code",
   "execution_count": 52,
   "id": "7e9cc326-1fbd-4c0d-88ef-4a792ef54734",
   "metadata": {},
   "outputs": [
    {
     "name": "stdout",
     "output_type": "stream",
     "text": [
      "The Loss of Test accuracy : 0.09755382258195033\n"
     ]
    }
   ],
   "source": [
    "# loss of the model:\n",
    "print(f'The Loss of Test accuracy : {1-r2_score(y_test , y_test_predictions)}')"
   ]
  },
  {
   "cell_type": "code",
   "execution_count": 53,
   "id": "78af1d6c-7138-4306-b3bd-c3d43b34b295",
   "metadata": {},
   "outputs": [
    {
     "data": {
      "text/plain": [
       "1.0"
      ]
     },
     "execution_count": 53,
     "metadata": {},
     "output_type": "execute_result"
    }
   ],
   "source": [
    "0.9024461774180497 + 0.09755382258195033\n"
   ]
  },
  {
   "cell_type": "markdown",
   "id": "09bcd548-53a2-430d-811a-925e55f3afb4",
   "metadata": {},
   "source": [
    "### so training | loss | math | updating | graphical | accuracy |test part"
   ]
  },
  {
   "cell_type": "code",
   "execution_count": 56,
   "id": "77a973d9-5f50-4a68-9442-eeef525cc702",
   "metadata": {},
   "outputs": [],
   "source": [
    "# Now since our accuracy is 90% we can use this model with our own data:"
   ]
  },
  {
   "cell_type": "code",
   "execution_count": 57,
   "id": "ed9b1275-beb4-42b9-a586-0e215f9053c0",
   "metadata": {},
   "outputs": [],
   "source": [
    "# now i want to find out for 10 years experience what is the salary:"
   ]
  },
  {
   "cell_type": "code",
   "execution_count": 58,
   "id": "90c4504b-583c-4ca9-b58a-4a8daa68a966",
   "metadata": {},
   "outputs": [
    {
     "data": {
      "text/plain": [
       "array([119559.73624209])"
      ]
     },
     "execution_count": 58,
     "metadata": {},
     "output_type": "execute_result"
    }
   ],
   "source": [
    "reg.predict([[10.0]])"
   ]
  },
  {
   "cell_type": "code",
   "execution_count": 60,
   "id": "27da24a8-2255-4433-b262-751840c9474a",
   "metadata": {},
   "outputs": [
    {
     "name": "stdout",
     "output_type": "stream",
     "text": [
      "119559.73624207682\n"
     ]
    }
   ],
   "source": [
    "y = 9423.81532303* 10.0 + 25321.583011776813\n",
    "print(y)"
   ]
  },
  {
   "cell_type": "code",
   "execution_count": null,
   "id": "87056df2-d75e-460c-9774-d45a01e71a8c",
   "metadata": {},
   "outputs": [],
   "source": []
  }
 ],
 "metadata": {
  "kernelspec": {
   "display_name": "Python 3 (ipykernel)",
   "language": "python",
   "name": "python3"
  },
  "language_info": {
   "codemirror_mode": {
    "name": "ipython",
    "version": 3
   },
   "file_extension": ".py",
   "mimetype": "text/x-python",
   "name": "python",
   "nbconvert_exporter": "python",
   "pygments_lexer": "ipython3",
   "version": "3.11.7"
  }
 },
 "nbformat": 4,
 "nbformat_minor": 5
}
