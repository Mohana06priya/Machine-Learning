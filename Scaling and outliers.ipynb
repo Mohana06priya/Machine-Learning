{
 "cells": [
  {
   "cell_type": "code",
   "execution_count": 2,
   "id": "6e295e00-f185-42d0-8bc2-a6f0316cd7db",
   "metadata": {},
   "outputs": [],
   "source": [
    "import numpy as np\n",
    "import pandas as pd\n",
    "import matplotlib.pyplot as plt\n",
    "import sklearn\n"
   ]
  },
  {
   "cell_type": "code",
   "execution_count": 3,
   "id": "f549a8f3-b0dd-4518-9780-1c9e4d091ea4",
   "metadata": {},
   "outputs": [
    {
     "data": {
      "text/html": [
       "<div>\n",
       "<style scoped>\n",
       "    .dataframe tbody tr th:only-of-type {\n",
       "        vertical-align: middle;\n",
       "    }\n",
       "\n",
       "    .dataframe tbody tr th {\n",
       "        vertical-align: top;\n",
       "    }\n",
       "\n",
       "    .dataframe thead th {\n",
       "        text-align: right;\n",
       "    }\n",
       "</style>\n",
       "<table border=\"1\" class=\"dataframe\">\n",
       "  <thead>\n",
       "    <tr style=\"text-align: right;\">\n",
       "      <th></th>\n",
       "      <th>PassengerId</th>\n",
       "      <th>Survived</th>\n",
       "      <th>Pclass</th>\n",
       "      <th>Name</th>\n",
       "      <th>Sex</th>\n",
       "      <th>Age</th>\n",
       "      <th>SibSp</th>\n",
       "      <th>Parch</th>\n",
       "      <th>Ticket</th>\n",
       "      <th>Fare</th>\n",
       "      <th>Cabin</th>\n",
       "      <th>Embarked</th>\n",
       "    </tr>\n",
       "  </thead>\n",
       "  <tbody>\n",
       "    <tr>\n",
       "      <th>0</th>\n",
       "      <td>1</td>\n",
       "      <td>0</td>\n",
       "      <td>3</td>\n",
       "      <td>Braund, Mr. Owen Harris</td>\n",
       "      <td>male</td>\n",
       "      <td>22.0</td>\n",
       "      <td>1</td>\n",
       "      <td>0</td>\n",
       "      <td>A/5 21171</td>\n",
       "      <td>7.2500</td>\n",
       "      <td>NaN</td>\n",
       "      <td>S</td>\n",
       "    </tr>\n",
       "    <tr>\n",
       "      <th>1</th>\n",
       "      <td>2</td>\n",
       "      <td>1</td>\n",
       "      <td>1</td>\n",
       "      <td>Cumings, Mrs. John Bradley (Florence Briggs Th...</td>\n",
       "      <td>female</td>\n",
       "      <td>38.0</td>\n",
       "      <td>1</td>\n",
       "      <td>0</td>\n",
       "      <td>PC 17599</td>\n",
       "      <td>71.2833</td>\n",
       "      <td>C85</td>\n",
       "      <td>C</td>\n",
       "    </tr>\n",
       "    <tr>\n",
       "      <th>2</th>\n",
       "      <td>3</td>\n",
       "      <td>1</td>\n",
       "      <td>3</td>\n",
       "      <td>Heikkinen, Miss. Laina</td>\n",
       "      <td>female</td>\n",
       "      <td>26.0</td>\n",
       "      <td>0</td>\n",
       "      <td>0</td>\n",
       "      <td>STON/O2. 3101282</td>\n",
       "      <td>7.9250</td>\n",
       "      <td>NaN</td>\n",
       "      <td>S</td>\n",
       "    </tr>\n",
       "    <tr>\n",
       "      <th>3</th>\n",
       "      <td>4</td>\n",
       "      <td>1</td>\n",
       "      <td>1</td>\n",
       "      <td>Futrelle, Mrs. Jacques Heath (Lily May Peel)</td>\n",
       "      <td>female</td>\n",
       "      <td>35.0</td>\n",
       "      <td>1</td>\n",
       "      <td>0</td>\n",
       "      <td>113803</td>\n",
       "      <td>53.1000</td>\n",
       "      <td>C123</td>\n",
       "      <td>S</td>\n",
       "    </tr>\n",
       "    <tr>\n",
       "      <th>4</th>\n",
       "      <td>5</td>\n",
       "      <td>0</td>\n",
       "      <td>3</td>\n",
       "      <td>Allen, Mr. William Henry</td>\n",
       "      <td>male</td>\n",
       "      <td>35.0</td>\n",
       "      <td>0</td>\n",
       "      <td>0</td>\n",
       "      <td>373450</td>\n",
       "      <td>8.0500</td>\n",
       "      <td>NaN</td>\n",
       "      <td>S</td>\n",
       "    </tr>\n",
       "  </tbody>\n",
       "</table>\n",
       "</div>"
      ],
      "text/plain": [
       "   PassengerId  Survived  Pclass  \\\n",
       "0            1         0       3   \n",
       "1            2         1       1   \n",
       "2            3         1       3   \n",
       "3            4         1       1   \n",
       "4            5         0       3   \n",
       "\n",
       "                                                Name     Sex   Age  SibSp  \\\n",
       "0                            Braund, Mr. Owen Harris    male  22.0      1   \n",
       "1  Cumings, Mrs. John Bradley (Florence Briggs Th...  female  38.0      1   \n",
       "2                             Heikkinen, Miss. Laina  female  26.0      0   \n",
       "3       Futrelle, Mrs. Jacques Heath (Lily May Peel)  female  35.0      1   \n",
       "4                           Allen, Mr. William Henry    male  35.0      0   \n",
       "\n",
       "   Parch            Ticket     Fare Cabin Embarked  \n",
       "0      0         A/5 21171   7.2500   NaN        S  \n",
       "1      0          PC 17599  71.2833   C85        C  \n",
       "2      0  STON/O2. 3101282   7.9250   NaN        S  \n",
       "3      0            113803  53.1000  C123        S  \n",
       "4      0            373450   8.0500   NaN        S  "
      ]
     },
     "execution_count": 3,
     "metadata": {},
     "output_type": "execute_result"
    }
   ],
   "source": [
    "# load the dataset\n",
    "\n",
    "df = pd.read_csv('titanic.csv')\n",
    "df.head()"
   ]
  },
  {
   "cell_type": "code",
   "execution_count": 4,
   "id": "54dc956a-1ac2-45ae-b925-4299c25572a0",
   "metadata": {},
   "outputs": [],
   "source": [
    "# standardscalar = (x-mean / std)\n",
    "\n",
    "from sklearn.preprocessing import StandardScaler\n",
    "sc = StandardScaler()\n"
   ]
  },
  {
   "cell_type": "code",
   "execution_count": 5,
   "id": "5fb8d463-1eb9-4559-ba05-0af2ceca65f5",
   "metadata": {},
   "outputs": [
    {
     "data": {
      "text/html": [
       "<style>#sk-container-id-1 {color: black;background-color: white;}#sk-container-id-1 pre{padding: 0;}#sk-container-id-1 div.sk-toggleable {background-color: white;}#sk-container-id-1 label.sk-toggleable__label {cursor: pointer;display: block;width: 100%;margin-bottom: 0;padding: 0.3em;box-sizing: border-box;text-align: center;}#sk-container-id-1 label.sk-toggleable__label-arrow:before {content: \"▸\";float: left;margin-right: 0.25em;color: #696969;}#sk-container-id-1 label.sk-toggleable__label-arrow:hover:before {color: black;}#sk-container-id-1 div.sk-estimator:hover label.sk-toggleable__label-arrow:before {color: black;}#sk-container-id-1 div.sk-toggleable__content {max-height: 0;max-width: 0;overflow: hidden;text-align: left;background-color: #f0f8ff;}#sk-container-id-1 div.sk-toggleable__content pre {margin: 0.2em;color: black;border-radius: 0.25em;background-color: #f0f8ff;}#sk-container-id-1 input.sk-toggleable__control:checked~div.sk-toggleable__content {max-height: 200px;max-width: 100%;overflow: auto;}#sk-container-id-1 input.sk-toggleable__control:checked~label.sk-toggleable__label-arrow:before {content: \"▾\";}#sk-container-id-1 div.sk-estimator input.sk-toggleable__control:checked~label.sk-toggleable__label {background-color: #d4ebff;}#sk-container-id-1 div.sk-label input.sk-toggleable__control:checked~label.sk-toggleable__label {background-color: #d4ebff;}#sk-container-id-1 input.sk-hidden--visually {border: 0;clip: rect(1px 1px 1px 1px);clip: rect(1px, 1px, 1px, 1px);height: 1px;margin: -1px;overflow: hidden;padding: 0;position: absolute;width: 1px;}#sk-container-id-1 div.sk-estimator {font-family: monospace;background-color: #f0f8ff;border: 1px dotted black;border-radius: 0.25em;box-sizing: border-box;margin-bottom: 0.5em;}#sk-container-id-1 div.sk-estimator:hover {background-color: #d4ebff;}#sk-container-id-1 div.sk-parallel-item::after {content: \"\";width: 100%;border-bottom: 1px solid gray;flex-grow: 1;}#sk-container-id-1 div.sk-label:hover label.sk-toggleable__label {background-color: #d4ebff;}#sk-container-id-1 div.sk-serial::before {content: \"\";position: absolute;border-left: 1px solid gray;box-sizing: border-box;top: 0;bottom: 0;left: 50%;z-index: 0;}#sk-container-id-1 div.sk-serial {display: flex;flex-direction: column;align-items: center;background-color: white;padding-right: 0.2em;padding-left: 0.2em;position: relative;}#sk-container-id-1 div.sk-item {position: relative;z-index: 1;}#sk-container-id-1 div.sk-parallel {display: flex;align-items: stretch;justify-content: center;background-color: white;position: relative;}#sk-container-id-1 div.sk-item::before, #sk-container-id-1 div.sk-parallel-item::before {content: \"\";position: absolute;border-left: 1px solid gray;box-sizing: border-box;top: 0;bottom: 0;left: 50%;z-index: -1;}#sk-container-id-1 div.sk-parallel-item {display: flex;flex-direction: column;z-index: 1;position: relative;background-color: white;}#sk-container-id-1 div.sk-parallel-item:first-child::after {align-self: flex-end;width: 50%;}#sk-container-id-1 div.sk-parallel-item:last-child::after {align-self: flex-start;width: 50%;}#sk-container-id-1 div.sk-parallel-item:only-child::after {width: 0;}#sk-container-id-1 div.sk-dashed-wrapped {border: 1px dashed gray;margin: 0 0.4em 0.5em 0.4em;box-sizing: border-box;padding-bottom: 0.4em;background-color: white;}#sk-container-id-1 div.sk-label label {font-family: monospace;font-weight: bold;display: inline-block;line-height: 1.2em;}#sk-container-id-1 div.sk-label-container {text-align: center;}#sk-container-id-1 div.sk-container {/* jupyter's `normalize.less` sets `[hidden] { display: none; }` but bootstrap.min.css set `[hidden] { display: none !important; }` so we also need the `!important` here to be able to override the default hidden behavior on the sphinx rendered scikit-learn.org. See: https://github.com/scikit-learn/scikit-learn/issues/21755 */display: inline-block !important;position: relative;}#sk-container-id-1 div.sk-text-repr-fallback {display: none;}</style><div id=\"sk-container-id-1\" class=\"sk-top-container\"><div class=\"sk-text-repr-fallback\"><pre>StandardScaler()</pre><b>In a Jupyter environment, please rerun this cell to show the HTML representation or trust the notebook. <br />On GitHub, the HTML representation is unable to render, please try loading this page with nbviewer.org.</b></div><div class=\"sk-container\" hidden><div class=\"sk-item\"><div class=\"sk-estimator sk-toggleable\"><input class=\"sk-toggleable__control sk-hidden--visually\" id=\"sk-estimator-id-1\" type=\"checkbox\" checked><label for=\"sk-estimator-id-1\" class=\"sk-toggleable__label sk-toggleable__label-arrow\">StandardScaler</label><div class=\"sk-toggleable__content\"><pre>StandardScaler()</pre></div></div></div></div></div>"
      ],
      "text/plain": [
       "StandardScaler()"
      ]
     },
     "execution_count": 5,
     "metadata": {},
     "output_type": "execute_result"
    }
   ],
   "source": [
    "sc.fit(df[['Age']]) # fitting Age to standard scalar"
   ]
  },
  {
   "cell_type": "code",
   "execution_count": 6,
   "id": "9b2e5430-87fa-4ad0-ad2f-51950ddbf15e",
   "metadata": {},
   "outputs": [],
   "source": [
    "a = sc.transform (df[['Age']])"
   ]
  },
  {
   "cell_type": "code",
   "execution_count": 7,
   "id": "5b689075-e3bb-4790-a863-710977ad348e",
   "metadata": {},
   "outputs": [
    {
     "data": {
      "text/plain": [
       "0      22.0\n",
       "1      38.0\n",
       "2      26.0\n",
       "3      35.0\n",
       "4      35.0\n",
       "       ... \n",
       "886    27.0\n",
       "887    19.0\n",
       "888     NaN\n",
       "889    26.0\n",
       "890    32.0\n",
       "Name: Age, Length: 891, dtype: float64"
      ]
     },
     "execution_count": 7,
     "metadata": {},
     "output_type": "execute_result"
    }
   ],
   "source": [
    "df['Age']"
   ]
  },
  {
   "cell_type": "code",
   "execution_count": 8,
   "id": "4e632fd3-f8c6-42e6-93ef-6c49940e7f1d",
   "metadata": {},
   "outputs": [
    {
     "data": {
      "text/plain": [
       "array([[-0.53037664],\n",
       "       [ 0.57183099],\n",
       "       [-0.25482473],\n",
       "       [ 0.36516706],\n",
       "       [ 0.36516706],\n",
       "       [        nan],\n",
       "       [ 1.67403863],\n",
       "       [-1.90813618],\n",
       "       [-0.18593675],\n",
       "       [-1.08148046],\n",
       "       [-1.77036023],\n",
       "       [ 1.94959054],\n",
       "       [-0.6681526 ],\n",
       "       [ 0.64071897],\n",
       "       [-1.08148046],\n",
       "       [ 1.74292661],\n",
       "       [-1.90813618],\n",
       "       [        nan],\n",
       "       [ 0.08961515],\n",
       "       [        nan],\n",
       "       [ 0.36516706],\n",
       "       [ 0.29627909],\n",
       "       [-1.01259248],\n",
       "       [-0.11704878],\n",
       "       [-1.49480832],\n",
       "       [ 0.57183099],\n",
       "       [        nan],\n",
       "       [-0.73704057],\n",
       "       [        nan],\n",
       "       [        nan],\n",
       "       [ 0.70960695],\n",
       "       [        nan],\n",
       "       [        nan],\n",
       "       [ 2.50069435],\n",
       "       [-0.11704878],\n",
       "       [ 0.8473829 ],\n",
       "       [        nan],\n",
       "       [-0.59926462],\n",
       "       [-0.80592855],\n",
       "       [-1.08148046],\n",
       "       [ 0.70960695],\n",
       "       [-0.18593675],\n",
       "       [        nan],\n",
       "       [-1.83924821],\n",
       "       [-0.73704057],\n",
       "       [        nan],\n",
       "       [        nan],\n",
       "       [        nan],\n",
       "       [        nan],\n",
       "       [-0.80592855],\n",
       "       [-1.5636963 ],\n",
       "       [-0.59926462],\n",
       "       [ 1.32959874],\n",
       "       [-0.0481608 ],\n",
       "       [ 2.43180638],\n",
       "       [        nan],\n",
       "       [-0.59926462],\n",
       "       [-0.08260479],\n",
       "       [-1.70147225],\n",
       "       [-1.28814439],\n",
       "       [-0.53037664],\n",
       "       [ 0.57183099],\n",
       "       [ 1.05404683],\n",
       "       [-1.77036023],\n",
       "       [        nan],\n",
       "       [        nan],\n",
       "       [-0.0481608 ],\n",
       "       [-0.73704057],\n",
       "       [-0.87481653],\n",
       "       [-0.25482473],\n",
       "       [ 0.15850313],\n",
       "       [-0.9437045 ],\n",
       "       [-0.59926462],\n",
       "       [-0.25482473],\n",
       "       [ 0.15850313],\n",
       "       [-0.32371271],\n",
       "       [        nan],\n",
       "       [        nan],\n",
       "       [-1.98873512],\n",
       "       [ 0.02072718],\n",
       "       [-0.53037664],\n",
       "       [-0.0481608 ],\n",
       "       [        nan],\n",
       "       [-0.11704878],\n",
       "       [-0.87481653],\n",
       "       [ 0.22739111],\n",
       "       [-0.9437045 ],\n",
       "       [        nan],\n",
       "       [-0.46148866],\n",
       "       [-0.39260069],\n",
       "       [-0.0481608 ],\n",
       "       [-0.6681526 ],\n",
       "       [ 1.12293481],\n",
       "       [-0.25482473],\n",
       "       [ 2.01847851],\n",
       "       [        nan],\n",
       "       [ 2.84513424],\n",
       "       [-0.46148866],\n",
       "       [ 0.29627909],\n",
       "       [ 0.29627909],\n",
       "       [-0.11704878],\n",
       "       [        nan],\n",
       "       [-0.59926462],\n",
       "       [ 0.22739111],\n",
       "       [ 0.50294302],\n",
       "       [-0.11704878],\n",
       "       [-0.59926462],\n",
       "       [        nan],\n",
       "       [ 0.57183099],\n",
       "       [        nan],\n",
       "       [ 1.19182279],\n",
       "       [-1.04703647],\n",
       "       [-0.53037664],\n",
       "       [-0.6681526 ],\n",
       "       [-0.87481653],\n",
       "       [-0.59926462],\n",
       "       [ 2.81069025],\n",
       "       [-0.0481608 ],\n",
       "       [-0.39260069],\n",
       "       [-1.90813618],\n",
       "       [-0.59926462],\n",
       "       [        nan],\n",
       "       [ 0.19294712],\n",
       "       [ 0.19294712],\n",
       "       [ 1.67403863],\n",
       "       [-1.21925641],\n",
       "       [        nan],\n",
       "       [-0.39260069],\n",
       "       [        nan],\n",
       "       [ 1.05404683],\n",
       "       [ 0.22739111],\n",
       "       [-0.6681526 ],\n",
       "       [ 1.19182279],\n",
       "       [-0.0481608 ],\n",
       "       [-0.32371271],\n",
       "       [-0.46148866],\n",
       "       [-0.73704057],\n",
       "       [ 0.50294302],\n",
       "       [-0.9437045 ],\n",
       "       [-0.39260069],\n",
       "       [        nan],\n",
       "       [-0.53037664],\n",
       "       [-0.39260069],\n",
       "       [-0.73704057],\n",
       "       [-0.80592855],\n",
       "       [-0.73704057],\n",
       "       [-0.18593675],\n",
       "       [-1.42592034],\n",
       "       [ 0.46849903],\n",
       "       [ 0.8473829 ],\n",
       "       [ 1.4673747 ],\n",
       "       [-0.53037664],\n",
       "       [ 1.77737059],\n",
       "       [ 0.74405094],\n",
       "       [        nan],\n",
       "       [ 1.4673747 ],\n",
       "       [-0.9437045 ],\n",
       "       [ 0.02072718],\n",
       "       [        nan],\n",
       "       [        nan],\n",
       "       [ 0.98515886],\n",
       "       [ 0.70960695],\n",
       "       [-0.25482473],\n",
       "       [-0.87481653],\n",
       "       [-1.97702416],\n",
       "       [-1.42592034],\n",
       "       [        nan],\n",
       "       [ 1.05404683],\n",
       "       [        nan],\n",
       "       [-0.11704878],\n",
       "       [ 2.15625447],\n",
       "       [-1.77036023],\n",
       "       [-1.97702416],\n",
       "       [-0.59926462],\n",
       "       [ 1.81181458],\n",
       "       [-0.80592855],\n",
       "       [        nan],\n",
       "       [ 1.39848672],\n",
       "       [ 0.02072718],\n",
       "       [ 0.43405504],\n",
       "       [        nan],\n",
       "       [        nan],\n",
       "       [-1.42592034],\n",
       "       [-1.97702416],\n",
       "       [-1.77036023],\n",
       "       [        nan],\n",
       "       [        nan],\n",
       "       [ 1.05404683],\n",
       "       [ 0.70960695],\n",
       "       [ 0.43405504],\n",
       "       [ 0.15850313],\n",
       "       [-0.73704057],\n",
       "       [-0.73704057],\n",
       "       [-1.83924821],\n",
       "       [ 0.98515886],\n",
       "       [ 1.94959054],\n",
       "       [        nan],\n",
       "       [ 0.8473829 ],\n",
       "       [        nan],\n",
       "       [-0.39260069],\n",
       "       [-0.11704878],\n",
       "       [        nan],\n",
       "       [ 0.29627909],\n",
       "       [ 1.08849082],\n",
       "       [-0.80592855],\n",
       "       [-1.90813618],\n",
       "       [ 0.15850313],\n",
       "       [-0.25482473],\n",
       "       [-0.9437045 ],\n",
       "       [ 0.70960695],\n",
       "       [-0.39260069],\n",
       "       [ 0.36516706],\n",
       "       [-0.53037664],\n",
       "       [ 0.02072718],\n",
       "       [        nan],\n",
       "       [ 0.08961515],\n",
       "       [-0.18593675],\n",
       "       [ 0.8473829 ],\n",
       "       [ 0.15850313],\n",
       "       [ 0.02072718],\n",
       "       [-0.9437045 ],\n",
       "       [-0.18593675],\n",
       "       [ 1.4673747 ],\n",
       "       [        nan],\n",
       "       [ 0.57183099],\n",
       "       [-0.53037664],\n",
       "       [-0.73704057],\n",
       "       [-0.63370861],\n",
       "       [-0.80592855],\n",
       "       [        nan],\n",
       "       [ 0.36516706],\n",
       "       [-0.0481608 ],\n",
       "       [ 2.01847851],\n",
       "       [-1.70147225],\n",
       "       [-0.39260069],\n",
       "       [        nan],\n",
       "       [ 0.98515886],\n",
       "       [-1.49480832],\n",
       "       [-0.73704057],\n",
       "       [ 0.22739111],\n",
       "       [        nan],\n",
       "       [        nan],\n",
       "       [-0.0481608 ],\n",
       "       [-0.53037664],\n",
       "       [ 0.02072718],\n",
       "       [ 0.98515886],\n",
       "       [-0.32371271],\n",
       "       [-0.39260069],\n",
       "       [ 0.50294302],\n",
       "       [ 1.67403863],\n",
       "       [        nan],\n",
       "       [-0.0481608 ],\n",
       "       [ 2.22514245],\n",
       "       [ 0.02072718],\n",
       "       [ 0.77849493],\n",
       "       [-0.0481608 ],\n",
       "       [        nan],\n",
       "       [ 0.02072718],\n",
       "       [ 0.36516706],\n",
       "       [ 1.39848672],\n",
       "       [        nan],\n",
       "       [-1.83924821],\n",
       "       [ 1.53626267],\n",
       "       [ 0.70960695],\n",
       "       [        nan],\n",
       "       [ 0.43405504],\n",
       "       [-0.9437045 ],\n",
       "       [-0.32371271],\n",
       "       [ 1.94959054],\n",
       "       [ 0.36516706],\n",
       "       [        nan],\n",
       "       [-0.32371271],\n",
       "       [ 0.77849493],\n",
       "       [ 0.50294302],\n",
       "       [        nan],\n",
       "       [ 2.29403042],\n",
       "       [ 1.05404683],\n",
       "       [        nan],\n",
       "       [-1.5636963 ],\n",
       "       [ 0.36516706],\n",
       "       [ 2.43180638],\n",
       "       [-0.11704878],\n",
       "       [-0.9437045 ],\n",
       "       [-0.73704057],\n",
       "       [        nan],\n",
       "       [ 0.22739111],\n",
       "       [ 0.02072718],\n",
       "       [-0.53037664],\n",
       "       [ 0.8473829 ],\n",
       "       [-0.53037664],\n",
       "       [-0.25482473],\n",
       "       [-0.73704057],\n",
       "       [ 0.43405504],\n",
       "       [-0.39260069],\n",
       "       [-0.39260069],\n",
       "       [        nan],\n",
       "       [-0.42704467],\n",
       "       [-1.90813618],\n",
       "       [        nan],\n",
       "       [ 1.39848672],\n",
       "       [        nan],\n",
       "       [        nan],\n",
       "       [-0.73704057],\n",
       "       [        nan],\n",
       "       [        nan],\n",
       "       [-1.9825352 ],\n",
       "       [        nan],\n",
       "       [-0.87481653],\n",
       "       [ 0.02072718],\n",
       "       [ 0.02072718],\n",
       "       [-0.39260069],\n",
       "       [-0.80592855],\n",
       "       [-0.25482473],\n",
       "       [-0.11704878],\n",
       "       [ 0.91627088],\n",
       "       [-0.25482473],\n",
       "       [-0.39260069],\n",
       "       [ 1.67403863],\n",
       "       [ 0.08961515],\n",
       "       [ 0.70960695],\n",
       "       [-0.53037664],\n",
       "       [-0.18593675],\n",
       "       [ 0.02072718],\n",
       "       [-0.53037664],\n",
       "       [        nan],\n",
       "       [ 0.43405504],\n",
       "       [ 2.15625447],\n",
       "       [ 0.43405504],\n",
       "       [ 0.08961515],\n",
       "       [-0.9437045 ],\n",
       "       [        nan],\n",
       "       [ 1.08849082],\n",
       "       [ 0.57183099],\n",
       "       [-0.9437045 ],\n",
       "       [        nan],\n",
       "       [        nan],\n",
       "       [-0.0481608 ],\n",
       "       [ 0.77849493],\n",
       "       [ 1.05404683],\n",
       "       [ 1.05404683],\n",
       "       [-1.90813618],\n",
       "       [-0.39260069],\n",
       "       [-0.11704878],\n",
       "       [-0.32371271],\n",
       "       [ 0.43405504],\n",
       "       [-0.39260069],\n",
       "       [ 0.70960695],\n",
       "       [        nan],\n",
       "       [-1.83924821],\n",
       "       [ 0.8473829 ],\n",
       "       [-0.46148866],\n",
       "       [        nan],\n",
       "       [-1.01259248],\n",
       "       [-0.32371271],\n",
       "       [        nan],\n",
       "       [-0.11704878],\n",
       "       [-0.53037664],\n",
       "       [ 0.57183099],\n",
       "       [        nan],\n",
       "       [        nan],\n",
       "       [ 0.70960695],\n",
       "       [-0.0481608 ],\n",
       "       [ 1.05404683],\n",
       "       [ 0.36516706],\n",
       "       [        nan],\n",
       "       [ 0.02072718],\n",
       "       [ 2.08736649],\n",
       "       [        nan],\n",
       "       [        nan],\n",
       "       [-0.39260069],\n",
       "       [-0.32371271],\n",
       "       [-0.80592855],\n",
       "       [-0.73704057],\n",
       "       [-0.53037664],\n",
       "       [-1.83924821],\n",
       "       [        nan],\n",
       "       [-0.53037664],\n",
       "       [-0.18593675],\n",
       "       [-0.6681526 ],\n",
       "       [-0.73704057],\n",
       "       [ 0.8473829 ],\n",
       "       [-1.97702416],\n",
       "       [ 0.15850313],\n",
       "       [ 0.36516706],\n",
       "       [        nan],\n",
       "       [-0.80592855],\n",
       "       [-1.97702416],\n",
       "       [ 0.43405504],\n",
       "       [        nan],\n",
       "       [-0.87481653],\n",
       "       [ 0.43405504],\n",
       "       [-0.59926462],\n",
       "       [-0.11704878],\n",
       "       [-0.46148866],\n",
       "       [-0.39260069],\n",
       "       [-0.53037664],\n",
       "       [ 0.08961515],\n",
       "       [ 1.12293481],\n",
       "       [-0.46148866],\n",
       "       [-0.11704878],\n",
       "       [ 0.64071897],\n",
       "       [-0.25482473],\n",
       "       [-0.59926462],\n",
       "       [-0.11704878],\n",
       "       [-0.6681526 ],\n",
       "       [ 0.29627909],\n",
       "       [ 1.4673747 ],\n",
       "       [-1.83924821],\n",
       "       [-0.59926462],\n",
       "       [        nan],\n",
       "       [        nan],\n",
       "       [        nan],\n",
       "       [ 0.22739111],\n",
       "       [        nan],\n",
       "       [ 0.98515886],\n",
       "       [        nan],\n",
       "       [ 0.29627909],\n",
       "       [-0.80592855],\n",
       "       [ 0.02072718],\n",
       "       [-1.35703237],\n",
       "       [        nan],\n",
       "       [-0.59926462],\n",
       "       [-0.0481608 ],\n",
       "       [-0.11704878],\n",
       "       [-0.80592855],\n",
       "       [        nan],\n",
       "       [-0.11704878],\n",
       "       [-0.73704057],\n",
       "       [        nan],\n",
       "       [ 0.15850313],\n",
       "       [-0.11704878],\n",
       "       [        nan],\n",
       "       [ 0.8473829 ],\n",
       "       [-0.87481653],\n",
       "       [ 1.39848672],\n",
       "       [-1.08148046],\n",
       "       [-0.59926462],\n",
       "       [-0.39260069],\n",
       "       [ 2.3629184 ],\n",
       "       [ 0.08961515],\n",
       "       [ 1.05404683],\n",
       "       [-0.6681526 ],\n",
       "       [-0.32371271],\n",
       "       [-0.11704878],\n",
       "       [        nan],\n",
       "       [-1.77036023],\n",
       "       [-1.15036844],\n",
       "       [ 0.29627909],\n",
       "       [-1.70147225],\n",
       "       [ 1.53626267],\n",
       "       [ 0.43405504],\n",
       "       [        nan],\n",
       "       [ 0.02072718],\n",
       "       [ 1.32959874],\n",
       "       [        nan],\n",
       "       [-0.0481608 ],\n",
       "       [ 2.43180638],\n",
       "       [        nan],\n",
       "       [ 1.39848672],\n",
       "       [        nan],\n",
       "       [ 1.26071077],\n",
       "       [ 0.29627909],\n",
       "       [ 1.19182279],\n",
       "       [ 1.26071077],\n",
       "       [        nan],\n",
       "       [ 0.57183099],\n",
       "       [        nan],\n",
       "       [ 1.81181458],\n",
       "       [        nan],\n",
       "       [-1.99424616],\n",
       "       [        nan],\n",
       "       [ 0.57183099],\n",
       "       [ 0.22739111],\n",
       "       [-0.46148866],\n",
       "       [-0.53037664],\n",
       "       [        nan],\n",
       "       [ 0.29627909],\n",
       "       [-0.0481608 ],\n",
       "       [-0.53037664],\n",
       "       [-1.90813618],\n",
       "       [-1.42592034],\n",
       "       [        nan],\n",
       "       [ 1.39848672],\n",
       "       [ 2.29403042],\n",
       "       [-0.32371271],\n",
       "       [        nan],\n",
       "       [ 0.36516706],\n",
       "       [ 1.94959054],\n",
       "       [ 0.02072718],\n",
       "       [-1.42592034],\n",
       "       [        nan],\n",
       "       [-0.59926462],\n",
       "       [ 1.74292661],\n",
       "       [ 2.84513424],\n",
       "       [-0.59926462],\n",
       "       [        nan],\n",
       "       [ 1.67403863],\n",
       "       [        nan],\n",
       "       [-0.32371271],\n",
       "       [-0.39260069],\n",
       "       [-0.87481653],\n",
       "       [-0.59926462],\n",
       "       [        nan],\n",
       "       [ 0.50294302],\n",
       "       [-0.9437045 ],\n",
       "       [-0.80592855],\n",
       "       [ 0.22739111],\n",
       "       [        nan],\n",
       "       [-0.11704878],\n",
       "       [-0.25482473],\n",
       "       [-0.0481608 ],\n",
       "       [        nan],\n",
       "       [ 0.43405504],\n",
       "       [ 1.67403863],\n",
       "       [-0.39260069],\n",
       "       [ 1.19182279],\n",
       "       [ 0.29627909],\n",
       "       [        nan],\n",
       "       [ 0.43405504],\n",
       "       [ 0.15850313],\n",
       "       [ 0.02072718],\n",
       "       [-0.53037664],\n",
       "       [        nan],\n",
       "       [ 0.98515886],\n",
       "       [        nan],\n",
       "       [ 0.74405094],\n",
       "       [ 1.39848672],\n",
       "       [        nan],\n",
       "       [ 0.64071897],\n",
       "       [-0.46148866],\n",
       "       [-1.90813618],\n",
       "       [        nan],\n",
       "       [-0.87481653],\n",
       "       [        nan],\n",
       "       [ 0.02072718],\n",
       "       [-1.5636963 ],\n",
       "       [ 1.05404683],\n",
       "       [ 0.02072718],\n",
       "       [        nan],\n",
       "       [-0.53037664],\n",
       "       [ 0.43405504],\n",
       "       [-1.42592034],\n",
       "       [-1.28814439],\n",
       "       [ 0.15850313],\n",
       "       [ 1.39848672],\n",
       "       [ 2.3629184 ],\n",
       "       [-0.73704057],\n",
       "       [        nan],\n",
       "       [ 0.22739111],\n",
       "       [-1.49480832],\n",
       "       [-0.87481653],\n",
       "       [-0.18593675],\n",
       "       [        nan],\n",
       "       [-0.53037664],\n",
       "       [-0.53037664],\n",
       "       [ 2.22514245],\n",
       "       [ 1.26071077],\n",
       "       [        nan],\n",
       "       [ 0.64071897],\n",
       "       [ 0.43405504],\n",
       "       [        nan],\n",
       "       [ 0.70960695],\n",
       "       [-0.11704878],\n",
       "       [        nan],\n",
       "       [        nan],\n",
       "       [-0.39260069],\n",
       "       [-0.73704057],\n",
       "       [-0.0481608 ],\n",
       "       [        nan],\n",
       "       [ 0.15850313],\n",
       "       [ 2.22514245],\n",
       "       [ 1.60515065],\n",
       "       [ 0.43405504],\n",
       "       [        nan],\n",
       "       [-0.9437045 ],\n",
       "       [-0.73704057],\n",
       "       [ 0.29627909],\n",
       "       [ 0.64071897],\n",
       "       [        nan],\n",
       "       [ 0.15850313],\n",
       "       [-0.32371271],\n",
       "       [ 0.64071897],\n",
       "       [ 1.67403863],\n",
       "       [ 0.43405504],\n",
       "       [        nan],\n",
       "       [-0.80592855],\n",
       "       [ 1.19182279],\n",
       "       [ 2.08736649],\n",
       "       [-0.53037664],\n",
       "       [        nan],\n",
       "       [ 0.36516706],\n",
       "       [ 1.53626267],\n",
       "       [ 1.19182279],\n",
       "       [        nan],\n",
       "       [ 0.50294302],\n",
       "       [ 0.43405504],\n",
       "       [        nan],\n",
       "       [ 1.32959874],\n",
       "       [        nan],\n",
       "       [ 1.32959874],\n",
       "       [-0.39260069],\n",
       "       [        nan],\n",
       "       [        nan],\n",
       "       [ 0.98515886],\n",
       "       [ 0.36516706],\n",
       "       [ 0.43405504],\n",
       "       [ 0.02072718],\n",
       "       [-0.18593675],\n",
       "       [-0.53037664],\n",
       "       [ 0.70960695],\n",
       "       [ 0.64071897],\n",
       "       [        nan],\n",
       "       [        nan],\n",
       "       [        nan],\n",
       "       [ 0.36516706],\n",
       "       [-0.39260069],\n",
       "       [ 0.29627909],\n",
       "       [-0.25482473],\n",
       "       [-1.77036023],\n",
       "       [-0.25482473],\n",
       "       [-0.18593675],\n",
       "       [ 0.8473829 ],\n",
       "       [-0.6681526 ],\n",
       "       [-0.59926462],\n",
       "       [-0.59926462],\n",
       "       [ 2.15625447],\n",
       "       [ 1.88070256],\n",
       "       [-0.59926462],\n",
       "       [-0.25482473],\n",
       "       [        nan],\n",
       "       [ 3.46512604],\n",
       "       [ 1.4673747 ],\n",
       "       [ 0.15850313],\n",
       "       [        nan],\n",
       "       [-1.42592034],\n",
       "       [-0.11704878],\n",
       "       [ 0.15850313],\n",
       "       [ 0.08961515],\n",
       "       [ 0.77849493],\n",
       "       [        nan],\n",
       "       [-0.6681526 ],\n",
       "       [-0.39260069],\n",
       "       [-1.90813618],\n",
       "       [        nan],\n",
       "       [-1.99424616],\n",
       "       [ 1.26071077],\n",
       "       [-0.73704057],\n",
       "       [ 1.81181458],\n",
       "       [        nan],\n",
       "       [-0.46148866],\n",
       "       [        nan],\n",
       "       [-0.80592855],\n",
       "       [-0.59926462],\n",
       "       [        nan],\n",
       "       [-0.80592855],\n",
       "       [-0.39260069],\n",
       "       [        nan],\n",
       "       [ 0.15850313],\n",
       "       [-0.46148866],\n",
       "       [ 1.94959054],\n",
       "       [ 1.39848672],\n",
       "       [ 0.70960695],\n",
       "       [ 1.19182279],\n",
       "       [ 0.43405504],\n",
       "       [-0.6681526 ],\n",
       "       [ 0.15850313],\n",
       "       [-0.32371271],\n",
       "       [        nan],\n",
       "       [ 0.91627088],\n",
       "       [        nan],\n",
       "       [ 0.70960695],\n",
       "       [ 0.08961515],\n",
       "       [ 2.77624626],\n",
       "       [ 0.08961515],\n",
       "       [        nan],\n",
       "       [-0.80592855],\n",
       "       [-0.3581567 ],\n",
       "       [-0.80592855],\n",
       "       [ 0.91627088],\n",
       "       [ 0.43405504],\n",
       "       [        nan],\n",
       "       [-0.18593675],\n",
       "       [-0.6681526 ],\n",
       "       [-1.08148046],\n",
       "       [ 2.08736649],\n",
       "       [-0.32371271],\n",
       "       [-1.08148046],\n",
       "       [-0.73704057],\n",
       "       [-0.80592855],\n",
       "       [-1.01259248],\n",
       "       [ 0.08961515],\n",
       "       [-1.77036023],\n",
       "       [        nan],\n",
       "       [-0.32371271],\n",
       "       [ 2.08736649],\n",
       "       [ 1.53626267],\n",
       "       [ 0.98515886],\n",
       "       [        nan],\n",
       "       [ 1.32959874],\n",
       "       [ 0.8473829 ],\n",
       "       [-0.80592855],\n",
       "       [ 0.36516706],\n",
       "       [-0.80592855],\n",
       "       [-0.32371271],\n",
       "       [-0.25482473],\n",
       "       [ 0.64071897],\n",
       "       [ 1.05404683],\n",
       "       [ 0.8473829 ],\n",
       "       [-0.53037664],\n",
       "       [        nan],\n",
       "       [-0.39260069],\n",
       "       [        nan],\n",
       "       [ 1.26071077],\n",
       "       [-0.0481608 ],\n",
       "       [ 1.53626267],\n",
       "       [-0.73704057],\n",
       "       [ 0.57183099],\n",
       "       [-0.18593675],\n",
       "       [        nan],\n",
       "       [ 0.22739111],\n",
       "       [-1.63258428],\n",
       "       [-0.87481653],\n",
       "       [ 0.29627909],\n",
       "       [ 1.39848672],\n",
       "       [-0.18593675],\n",
       "       [-0.6681526 ],\n",
       "       [ 0.02072718],\n",
       "       [        nan],\n",
       "       [-0.32371271],\n",
       "       [-0.32371271],\n",
       "       [-0.0481608 ],\n",
       "       [-1.28814439],\n",
       "       [        nan],\n",
       "       [-0.46148866],\n",
       "       [-0.46148866],\n",
       "       [-0.08260479],\n",
       "       [ 1.26071077],\n",
       "       [ 0.36516706],\n",
       "       [        nan],\n",
       "       [        nan],\n",
       "       [        nan],\n",
       "       [ 0.43405504],\n",
       "       [-0.59926462],\n",
       "       [-0.39260069],\n",
       "       [ 0.08961515],\n",
       "       [ 2.77624626],\n",
       "       [-0.9437045 ],\n",
       "       [ 0.02072718],\n",
       "       [-0.73704057],\n",
       "       [ 0.08961515],\n",
       "       [-1.77036023],\n",
       "       [-1.63258428],\n",
       "       [ 0.22739111],\n",
       "       [-0.46148866],\n",
       "       [ 1.26071077],\n",
       "       [-1.99975719],\n",
       "       [-0.11704878],\n",
       "       [-0.80592855],\n",
       "       [ 0.29627909],\n",
       "       [ 0.22739111],\n",
       "       [        nan],\n",
       "       [ 0.77849493],\n",
       "       [-0.6681526 ],\n",
       "       [ 0.43405504],\n",
       "       [-0.9437045 ],\n",
       "       [ 1.4673747 ],\n",
       "       [        nan],\n",
       "       [ 0.05517117],\n",
       "       [        nan],\n",
       "       [ 0.15850313],\n",
       "       [-0.39260069],\n",
       "       [ 1.26071077],\n",
       "       [ 1.88070256],\n",
       "       [        nan],\n",
       "       [ 1.67403863],\n",
       "       [-0.80592855],\n",
       "       [        nan],\n",
       "       [-1.70147225],\n",
       "       [        nan],\n",
       "       [ 0.91627088],\n",
       "       [-1.15036844],\n",
       "       [-0.87481653],\n",
       "       [-0.0481608 ],\n",
       "       [        nan],\n",
       "       [-0.32371271],\n",
       "       [-0.32371271],\n",
       "       [-0.80592855],\n",
       "       [-1.49480832],\n",
       "       [-1.97702416],\n",
       "       [ 1.12293481],\n",
       "       [        nan],\n",
       "       [-0.9437045 ],\n",
       "       [        nan],\n",
       "       [        nan],\n",
       "       [-0.32371271],\n",
       "       [ 0.64071897],\n",
       "       [ 1.32959874],\n",
       "       [ 0.08961515],\n",
       "       [ 0.02072718],\n",
       "       [ 0.02072718],\n",
       "       [ 0.29627909],\n",
       "       [ 0.08961515],\n",
       "       [-1.28814439],\n",
       "       [-2.01697919],\n",
       "       [-0.18593675],\n",
       "       [ 0.08961515],\n",
       "       [ 0.64071897],\n",
       "       [-0.80592855],\n",
       "       [ 0.64071897],\n",
       "       [ 0.22739111],\n",
       "       [-0.25482473],\n",
       "       [ 0.64071897],\n",
       "       [ 0.36516706],\n",
       "       [-1.63258428],\n",
       "       [ 0.05517117],\n",
       "       [        nan],\n",
       "       [-0.46148866],\n",
       "       [ 0.08961515],\n",
       "       [ 0.91627088],\n",
       "       [-1.35703237],\n",
       "       [ 1.53626267],\n",
       "       [-0.18593675],\n",
       "       [ 0.57183099],\n",
       "       [-0.18593675],\n",
       "       [-1.90813618],\n",
       "       [        nan],\n",
       "       [        nan],\n",
       "       [-1.97702416],\n",
       "       [        nan],\n",
       "       [ 2.22514245],\n",
       "       [-1.01259248],\n",
       "       [-1.98873512],\n",
       "       [        nan],\n",
       "       [-0.46148866],\n",
       "       [-0.80592855],\n",
       "       [ 0.64071897],\n",
       "       [-0.59926462],\n",
       "       [        nan],\n",
       "       [ 0.15850313],\n",
       "       [        nan],\n",
       "       [-0.6681526 ],\n",
       "       [-0.9437045 ],\n",
       "       [ 0.02072718],\n",
       "       [ 0.33072307],\n",
       "       [-0.87481653],\n",
       "       [ 0.8473829 ],\n",
       "       [        nan],\n",
       "       [ 0.36516706],\n",
       "       [-0.11704878],\n",
       "       [        nan],\n",
       "       [-1.77036023],\n",
       "       [ 3.05179817],\n",
       "       [-1.42592034],\n",
       "       [-0.9437045 ],\n",
       "       [ 0.98515886],\n",
       "       [-0.80592855],\n",
       "       [ 1.05404683],\n",
       "       [ 1.4673747 ],\n",
       "       [-0.39260069],\n",
       "       [        nan],\n",
       "       [ 0.77849493],\n",
       "       [-0.59926462],\n",
       "       [ 1.26071077],\n",
       "       [        nan],\n",
       "       [-0.39260069],\n",
       "       [ 0.8473829 ],\n",
       "       [-0.18593675],\n",
       "       [ 0.08961515],\n",
       "       [        nan],\n",
       "       [-1.77036023],\n",
       "       [-0.25482473],\n",
       "       [ 1.19182279],\n",
       "       [ 0.22739111],\n",
       "       [ 1.19182279],\n",
       "       [-0.11704878],\n",
       "       [-1.01259248],\n",
       "       [-0.6681526 ],\n",
       "       [-0.73704057],\n",
       "       [        nan],\n",
       "       [ 1.81181458],\n",
       "       [-0.32371271],\n",
       "       [ 0.22739111],\n",
       "       [-0.53037664],\n",
       "       [-0.11704878],\n",
       "       [-0.32371271],\n",
       "       [ 0.64071897],\n",
       "       [-0.18593675],\n",
       "       [-0.73704057],\n",
       "       [        nan],\n",
       "       [-0.25482473],\n",
       "       [ 0.15850313]])"
      ]
     },
     "execution_count": 8,
     "metadata": {},
     "output_type": "execute_result"
    }
   ],
   "source": [
    "a"
   ]
  },
  {
   "cell_type": "code",
   "execution_count": 9,
   "id": "41ce902c-73ef-4fec-ae8e-e3900f39dd63",
   "metadata": {},
   "outputs": [
    {
     "data": {
      "text/plain": [
       "array([29.69911765])"
      ]
     },
     "execution_count": 9,
     "metadata": {},
     "output_type": "execute_result"
    }
   ],
   "source": [
    "sc.mean_"
   ]
  },
  {
   "cell_type": "code",
   "execution_count": 10,
   "id": "8b10f92f-a362-475d-b87e-e5ec9626ef44",
   "metadata": {},
   "outputs": [
    {
     "data": {
      "text/plain": [
       "array([14.51632115])"
      ]
     },
     "execution_count": 10,
     "metadata": {},
     "output_type": "execute_result"
    }
   ],
   "source": [
    "sc.scale_"
   ]
  },
  {
   "cell_type": "code",
   "execution_count": 11,
   "id": "b8667cae-1c04-42e3-9986-ad84d9baec55",
   "metadata": {},
   "outputs": [
    {
     "data": {
      "text/plain": [
       "0      22.0\n",
       "1      38.0\n",
       "2      26.0\n",
       "3      35.0\n",
       "4      35.0\n",
       "       ... \n",
       "886    27.0\n",
       "887    19.0\n",
       "888     NaN\n",
       "889    26.0\n",
       "890    32.0\n",
       "Name: Age, Length: 891, dtype: float64"
      ]
     },
     "execution_count": 11,
     "metadata": {},
     "output_type": "execute_result"
    }
   ],
   "source": [
    "df['Age']"
   ]
  },
  {
   "cell_type": "code",
   "execution_count": 12,
   "id": "2e73a686-6616-450b-8492-e26d244774cb",
   "metadata": {},
   "outputs": [],
   "source": [
    "df['Age_scaled'] = pd.DataFrame(a)"
   ]
  },
  {
   "cell_type": "code",
   "execution_count": 13,
   "id": "e6ca8652-2da3-4f5b-a8b9-d02ea929b425",
   "metadata": {},
   "outputs": [
    {
     "data": {
      "text/html": [
       "<div>\n",
       "<style scoped>\n",
       "    .dataframe tbody tr th:only-of-type {\n",
       "        vertical-align: middle;\n",
       "    }\n",
       "\n",
       "    .dataframe tbody tr th {\n",
       "        vertical-align: top;\n",
       "    }\n",
       "\n",
       "    .dataframe thead th {\n",
       "        text-align: right;\n",
       "    }\n",
       "</style>\n",
       "<table border=\"1\" class=\"dataframe\">\n",
       "  <thead>\n",
       "    <tr style=\"text-align: right;\">\n",
       "      <th></th>\n",
       "      <th>PassengerId</th>\n",
       "      <th>Survived</th>\n",
       "      <th>Pclass</th>\n",
       "      <th>Name</th>\n",
       "      <th>Sex</th>\n",
       "      <th>Age</th>\n",
       "      <th>SibSp</th>\n",
       "      <th>Parch</th>\n",
       "      <th>Ticket</th>\n",
       "      <th>Fare</th>\n",
       "      <th>Cabin</th>\n",
       "      <th>Embarked</th>\n",
       "      <th>Age_scaled</th>\n",
       "    </tr>\n",
       "  </thead>\n",
       "  <tbody>\n",
       "    <tr>\n",
       "      <th>0</th>\n",
       "      <td>1</td>\n",
       "      <td>0</td>\n",
       "      <td>3</td>\n",
       "      <td>Braund, Mr. Owen Harris</td>\n",
       "      <td>male</td>\n",
       "      <td>22.0</td>\n",
       "      <td>1</td>\n",
       "      <td>0</td>\n",
       "      <td>A/5 21171</td>\n",
       "      <td>7.2500</td>\n",
       "      <td>NaN</td>\n",
       "      <td>S</td>\n",
       "      <td>-0.530377</td>\n",
       "    </tr>\n",
       "    <tr>\n",
       "      <th>1</th>\n",
       "      <td>2</td>\n",
       "      <td>1</td>\n",
       "      <td>1</td>\n",
       "      <td>Cumings, Mrs. John Bradley (Florence Briggs Th...</td>\n",
       "      <td>female</td>\n",
       "      <td>38.0</td>\n",
       "      <td>1</td>\n",
       "      <td>0</td>\n",
       "      <td>PC 17599</td>\n",
       "      <td>71.2833</td>\n",
       "      <td>C85</td>\n",
       "      <td>C</td>\n",
       "      <td>0.571831</td>\n",
       "    </tr>\n",
       "    <tr>\n",
       "      <th>2</th>\n",
       "      <td>3</td>\n",
       "      <td>1</td>\n",
       "      <td>3</td>\n",
       "      <td>Heikkinen, Miss. Laina</td>\n",
       "      <td>female</td>\n",
       "      <td>26.0</td>\n",
       "      <td>0</td>\n",
       "      <td>0</td>\n",
       "      <td>STON/O2. 3101282</td>\n",
       "      <td>7.9250</td>\n",
       "      <td>NaN</td>\n",
       "      <td>S</td>\n",
       "      <td>-0.254825</td>\n",
       "    </tr>\n",
       "  </tbody>\n",
       "</table>\n",
       "</div>"
      ],
      "text/plain": [
       "   PassengerId  Survived  Pclass  \\\n",
       "0            1         0       3   \n",
       "1            2         1       1   \n",
       "2            3         1       3   \n",
       "\n",
       "                                                Name     Sex   Age  SibSp  \\\n",
       "0                            Braund, Mr. Owen Harris    male  22.0      1   \n",
       "1  Cumings, Mrs. John Bradley (Florence Briggs Th...  female  38.0      1   \n",
       "2                             Heikkinen, Miss. Laina  female  26.0      0   \n",
       "\n",
       "   Parch            Ticket     Fare Cabin Embarked  Age_scaled  \n",
       "0      0         A/5 21171   7.2500   NaN        S   -0.530377  \n",
       "1      0          PC 17599  71.2833   C85        C    0.571831  \n",
       "2      0  STON/O2. 3101282   7.9250   NaN        S   -0.254825  "
      ]
     },
     "execution_count": 13,
     "metadata": {},
     "output_type": "execute_result"
    }
   ],
   "source": [
    "df.head(3)"
   ]
  },
  {
   "cell_type": "code",
   "execution_count": 14,
   "id": "e78cf54f-6d82-46be-947b-0b79699a2ff0",
   "metadata": {},
   "outputs": [],
   "source": [
    "import seaborn as sns"
   ]
  },
  {
   "cell_type": "code",
   "execution_count": 15,
   "id": "251294f0-9b44-470a-abdc-a45dcd469f8e",
   "metadata": {},
   "outputs": [
    {
     "data": {
      "text/plain": [
       "<Axes: ylabel='Density'>"
      ]
     },
     "execution_count": 15,
     "metadata": {},
     "output_type": "execute_result"
    },
    {
     "data": {
      "image/png": "[encoded data removed]",
      "text/plain": [
       "<Figure size 640x480 with 1 Axes>"
      ]
     },
     "metadata": {},
     "output_type": "display_data"
    }
   ],
   "source": [
    "df['Age'].plot(kind = 'kde')"
   ]
  },
  {
   "cell_type": "code",
   "execution_count": 16,
   "id": "1975e4ee-938b-40ca-8261-2e7cbbfa0964",
   "metadata": {},
   "outputs": [
    {
     "data": {
      "text/plain": [
       "<Axes: ylabel='Density'>"
      ]
     },
     "execution_count": 16,
     "metadata": {},
     "output_type": "execute_result"
    },
    {
     "data": {
      "image/png": "[encoded data removed]",
      "text/plain": [
       "<Figure size 640x480 with 1 Axes>"
      ]
     },
     "metadata": {},
     "output_type": "display_data"
    }
   ],
   "source": [
    "df['Age_scaled'].plot(kind='kde')"
   ]
  },
  {
   "cell_type": "markdown",
   "id": "6d993d2e-a566-4089-9312-43d024efee16",
   "metadata": {},
   "source": [
    "## which works fast big values or small values[pls check KNN model]"
   ]
  },
  {
   "cell_type": "markdown",
   "id": "a0379dd5-0e9b-4fad-91d3-0794866b7da6",
   "metadata": {},
   "source": [
    "## Mean normalisation"
   ]
  },
  {
   "cell_type": "code",
   "execution_count": 17,
   "id": "95a31663-f56f-4ce2-ac34-1534b464e818",
   "metadata": {},
   "outputs": [
    {
     "data": {
      "text/plain": [
       "0      22.0\n",
       "1      38.0\n",
       "2      26.0\n",
       "3      35.0\n",
       "4      35.0\n",
       "       ... \n",
       "886    27.0\n",
       "887    19.0\n",
       "888     NaN\n",
       "889    26.0\n",
       "890    32.0\n",
       "Name: Age, Length: 891, dtype: float64"
      ]
     },
     "execution_count": 17,
     "metadata": {},
     "output_type": "execute_result"
    }
   ],
   "source": [
    "df['Age']"
   ]
  },
  {
   "cell_type": "code",
   "execution_count": 18,
   "id": "90cdf6ef-997f-4bab-a490-b705028e472e",
   "metadata": {},
   "outputs": [
    {
     "data": {
      "text/plain": [
       "79.58"
      ]
     },
     "execution_count": 18,
     "metadata": {},
     "output_type": "execute_result"
    }
   ],
   "source": [
    "ranges = df['Age'].max(axis=0) - df['Age'].min(axis=0)\n",
    "ranges"
   ]
  },
  {
   "cell_type": "code",
   "execution_count": 19,
   "id": "3382d6d5-54b4-4438-9077-6b33bb5771df",
   "metadata": {},
   "outputs": [],
   "source": [
    "mean = df['Age'].mean()"
   ]
  },
  {
   "cell_type": "code",
   "execution_count": 20,
   "id": "dd5272d5-6ad4-4a4b-9ced-2aa3b428a617",
   "metadata": {},
   "outputs": [],
   "source": [
    "df['Age_MN'] = (df['Age'] - mean) / ranges"
   ]
  },
  {
   "cell_type": "code",
   "execution_count": 21,
   "id": "0fd73c14-c968-4e5d-a549-88343fb06b60",
   "metadata": {},
   "outputs": [
    {
     "data": {
      "text/html": [
       "<div>\n",
       "<style scoped>\n",
       "    .dataframe tbody tr th:only-of-type {\n",
       "        vertical-align: middle;\n",
       "    }\n",
       "\n",
       "    .dataframe tbody tr th {\n",
       "        vertical-align: top;\n",
       "    }\n",
       "\n",
       "    .dataframe thead th {\n",
       "        text-align: right;\n",
       "    }\n",
       "</style>\n",
       "<table border=\"1\" class=\"dataframe\">\n",
       "  <thead>\n",
       "    <tr style=\"text-align: right;\">\n",
       "      <th></th>\n",
       "      <th>PassengerId</th>\n",
       "      <th>Survived</th>\n",
       "      <th>Pclass</th>\n",
       "      <th>Name</th>\n",
       "      <th>Sex</th>\n",
       "      <th>Age</th>\n",
       "      <th>SibSp</th>\n",
       "      <th>Parch</th>\n",
       "      <th>Ticket</th>\n",
       "      <th>Fare</th>\n",
       "      <th>Cabin</th>\n",
       "      <th>Embarked</th>\n",
       "      <th>Age_scaled</th>\n",
       "      <th>Age_MN</th>\n",
       "    </tr>\n",
       "  </thead>\n",
       "  <tbody>\n",
       "    <tr>\n",
       "      <th>0</th>\n",
       "      <td>1</td>\n",
       "      <td>0</td>\n",
       "      <td>3</td>\n",
       "      <td>Braund, Mr. Owen Harris</td>\n",
       "      <td>male</td>\n",
       "      <td>22.0</td>\n",
       "      <td>1</td>\n",
       "      <td>0</td>\n",
       "      <td>A/5 21171</td>\n",
       "      <td>7.2500</td>\n",
       "      <td>NaN</td>\n",
       "      <td>S</td>\n",
       "      <td>-0.530377</td>\n",
       "      <td>-0.096747</td>\n",
       "    </tr>\n",
       "    <tr>\n",
       "      <th>1</th>\n",
       "      <td>2</td>\n",
       "      <td>1</td>\n",
       "      <td>1</td>\n",
       "      <td>Cumings, Mrs. John Bradley (Florence Briggs Th...</td>\n",
       "      <td>female</td>\n",
       "      <td>38.0</td>\n",
       "      <td>1</td>\n",
       "      <td>0</td>\n",
       "      <td>PC 17599</td>\n",
       "      <td>71.2833</td>\n",
       "      <td>C85</td>\n",
       "      <td>C</td>\n",
       "      <td>0.571831</td>\n",
       "      <td>0.104309</td>\n",
       "    </tr>\n",
       "    <tr>\n",
       "      <th>2</th>\n",
       "      <td>3</td>\n",
       "      <td>1</td>\n",
       "      <td>3</td>\n",
       "      <td>Heikkinen, Miss. Laina</td>\n",
       "      <td>female</td>\n",
       "      <td>26.0</td>\n",
       "      <td>0</td>\n",
       "      <td>0</td>\n",
       "      <td>STON/O2. 3101282</td>\n",
       "      <td>7.9250</td>\n",
       "      <td>NaN</td>\n",
       "      <td>S</td>\n",
       "      <td>-0.254825</td>\n",
       "      <td>-0.046483</td>\n",
       "    </tr>\n",
       "  </tbody>\n",
       "</table>\n",
       "</div>"
      ],
      "text/plain": [
       "   PassengerId  Survived  Pclass  \\\n",
       "0            1         0       3   \n",
       "1            2         1       1   \n",
       "2            3         1       3   \n",
       "\n",
       "                                                Name     Sex   Age  SibSp  \\\n",
       "0                            Braund, Mr. Owen Harris    male  22.0      1   \n",
       "1  Cumings, Mrs. John Bradley (Florence Briggs Th...  female  38.0      1   \n",
       "2                             Heikkinen, Miss. Laina  female  26.0      0   \n",
       "\n",
       "   Parch            Ticket     Fare Cabin Embarked  Age_scaled    Age_MN  \n",
       "0      0         A/5 21171   7.2500   NaN        S   -0.530377 -0.096747  \n",
       "1      0          PC 17599  71.2833   C85        C    0.571831  0.104309  \n",
       "2      0  STON/O2. 3101282   7.9250   NaN        S   -0.254825 -0.046483  "
      ]
     },
     "execution_count": 21,
     "metadata": {},
     "output_type": "execute_result"
    }
   ],
   "source": [
    "df.head(3)"
   ]
  },
  {
   "cell_type": "markdown",
   "id": "5b36be6b-fb1a-4ef9-8bd7-537d144f3bd4",
   "metadata": {},
   "source": [
    "### Data Leakage:"
   ]
  },
  {
   "cell_type": "code",
   "execution_count": 22,
   "id": "fb38f82d-a3b1-46ff-aecd-7417a3afe658",
   "metadata": {},
   "outputs": [],
   "source": [
    "a = [1,2,3,np.nan,4,5,6,7,8,np.nan,9,11,12,1,4,1,4,5,np.nan]\n",
    "df = pd.DataFrame(a,columns=['data'])"
   ]
  },
  {
   "cell_type": "code",
   "execution_count": 23,
   "id": "71e8e2c5-ae00-464c-819c-8a9c71aae9ad",
   "metadata": {},
   "outputs": [
    {
     "data": {
      "text/html": [
       "<div>\n",
       "<style scoped>\n",
       "    .dataframe tbody tr th:only-of-type {\n",
       "        vertical-align: middle;\n",
       "    }\n",
       "\n",
       "    .dataframe tbody tr th {\n",
       "        vertical-align: top;\n",
       "    }\n",
       "\n",
       "    .dataframe thead th {\n",
       "        text-align: right;\n",
       "    }\n",
       "</style>\n",
       "<table border=\"1\" class=\"dataframe\">\n",
       "  <thead>\n",
       "    <tr style=\"text-align: right;\">\n",
       "      <th></th>\n",
       "      <th>data</th>\n",
       "    </tr>\n",
       "  </thead>\n",
       "  <tbody>\n",
       "    <tr>\n",
       "      <th>0</th>\n",
       "      <td>1.0</td>\n",
       "    </tr>\n",
       "    <tr>\n",
       "      <th>1</th>\n",
       "      <td>2.0</td>\n",
       "    </tr>\n",
       "    <tr>\n",
       "      <th>2</th>\n",
       "      <td>3.0</td>\n",
       "    </tr>\n",
       "    <tr>\n",
       "      <th>3</th>\n",
       "      <td>NaN</td>\n",
       "    </tr>\n",
       "    <tr>\n",
       "      <th>4</th>\n",
       "      <td>4.0</td>\n",
       "    </tr>\n",
       "    <tr>\n",
       "      <th>5</th>\n",
       "      <td>5.0</td>\n",
       "    </tr>\n",
       "    <tr>\n",
       "      <th>6</th>\n",
       "      <td>6.0</td>\n",
       "    </tr>\n",
       "    <tr>\n",
       "      <th>7</th>\n",
       "      <td>7.0</td>\n",
       "    </tr>\n",
       "    <tr>\n",
       "      <th>8</th>\n",
       "      <td>8.0</td>\n",
       "    </tr>\n",
       "    <tr>\n",
       "      <th>9</th>\n",
       "      <td>NaN</td>\n",
       "    </tr>\n",
       "    <tr>\n",
       "      <th>10</th>\n",
       "      <td>9.0</td>\n",
       "    </tr>\n",
       "    <tr>\n",
       "      <th>11</th>\n",
       "      <td>11.0</td>\n",
       "    </tr>\n",
       "    <tr>\n",
       "      <th>12</th>\n",
       "      <td>12.0</td>\n",
       "    </tr>\n",
       "    <tr>\n",
       "      <th>13</th>\n",
       "      <td>1.0</td>\n",
       "    </tr>\n",
       "    <tr>\n",
       "      <th>14</th>\n",
       "      <td>4.0</td>\n",
       "    </tr>\n",
       "    <tr>\n",
       "      <th>15</th>\n",
       "      <td>1.0</td>\n",
       "    </tr>\n",
       "    <tr>\n",
       "      <th>16</th>\n",
       "      <td>4.0</td>\n",
       "    </tr>\n",
       "    <tr>\n",
       "      <th>17</th>\n",
       "      <td>5.0</td>\n",
       "    </tr>\n",
       "    <tr>\n",
       "      <th>18</th>\n",
       "      <td>NaN</td>\n",
       "    </tr>\n",
       "  </tbody>\n",
       "</table>\n",
       "</div>"
      ],
      "text/plain": [
       "    data\n",
       "0    1.0\n",
       "1    2.0\n",
       "2    3.0\n",
       "3    NaN\n",
       "4    4.0\n",
       "5    5.0\n",
       "6    6.0\n",
       "7    7.0\n",
       "8    8.0\n",
       "9    NaN\n",
       "10   9.0\n",
       "11  11.0\n",
       "12  12.0\n",
       "13   1.0\n",
       "14   4.0\n",
       "15   1.0\n",
       "16   4.0\n",
       "17   5.0\n",
       "18   NaN"
      ]
     },
     "execution_count": 23,
     "metadata": {},
     "output_type": "execute_result"
    }
   ],
   "source": [
    "df"
   ]
  },
  {
   "cell_type": "code",
   "execution_count": 24,
   "id": "3b80dd87-1ef7-4e9e-9d78-57db93db4ff9",
   "metadata": {},
   "outputs": [
    {
     "data": {
      "text/plain": [
       "data    3\n",
       "dtype: int64"
      ]
     },
     "execution_count": 24,
     "metadata": {},
     "output_type": "execute_result"
    }
   ],
   "source": [
    "df.isnull().sum()"
   ]
  },
  {
   "cell_type": "code",
   "execution_count": 25,
   "id": "5881c600-b657-4950-b569-564e2389ebfc",
   "metadata": {},
   "outputs": [
    {
     "data": {
      "text/plain": [
       "0      1.0\n",
       "1      2.0\n",
       "2      3.0\n",
       "3      NaN\n",
       "4      4.0\n",
       "5      5.0\n",
       "6      6.0\n",
       "7      7.0\n",
       "8      8.0\n",
       "9      NaN\n",
       "10     9.0\n",
       "11    11.0\n",
       "Name: data, dtype: float64"
      ]
     },
     "execution_count": 25,
     "metadata": {},
     "output_type": "execute_result"
    }
   ],
   "source": [
    "train = df['data'][:12]\n",
    "train"
   ]
  },
  {
   "cell_type": "code",
   "execution_count": 26,
   "id": "e62d5587-8192-422b-b963-f86a47ae532a",
   "metadata": {},
   "outputs": [],
   "source": [
    "test = df['data'][12:]"
   ]
  },
  {
   "cell_type": "code",
   "execution_count": 27,
   "id": "afd29304-a7eb-40a1-9b38-9b58ceef1387",
   "metadata": {},
   "outputs": [
    {
     "data": {
      "text/plain": [
       "12    12.0\n",
       "13     1.0\n",
       "14     4.0\n",
       "15     1.0\n",
       "16     4.0\n",
       "17     5.0\n",
       "18     NaN\n",
       "Name: data, dtype: float64"
      ]
     },
     "execution_count": 27,
     "metadata": {},
     "output_type": "execute_result"
    }
   ],
   "source": [
    "test"
   ]
  },
  {
   "cell_type": "markdown",
   "id": "8e743082-ce96-4f54-b619-1444edf95eba",
   "metadata": {},
   "source": [
    "#### how to handle outliers:\n",
    "\n",
    "- capping with mean and std\n",
    "- 5th and 95th quantile"
   ]
  },
  {
   "cell_type": "code",
   "execution_count": 28,
   "id": "6bd36ab9-e8fb-4084-a107-24eff73174bb",
   "metadata": {},
   "outputs": [
    {
     "data": {
      "text/html": [
       "<div>\n",
       "<style scoped>\n",
       "    .dataframe tbody tr th:only-of-type {\n",
       "        vertical-align: middle;\n",
       "    }\n",
       "\n",
       "    .dataframe tbody tr th {\n",
       "        vertical-align: top;\n",
       "    }\n",
       "\n",
       "    .dataframe thead th {\n",
       "        text-align: right;\n",
       "    }\n",
       "</style>\n",
       "<table border=\"1\" class=\"dataframe\">\n",
       "  <thead>\n",
       "    <tr style=\"text-align: right;\">\n",
       "      <th></th>\n",
       "      <th>PassengerId</th>\n",
       "      <th>Survived</th>\n",
       "      <th>Pclass</th>\n",
       "      <th>Name</th>\n",
       "      <th>Sex</th>\n",
       "      <th>Age</th>\n",
       "      <th>SibSp</th>\n",
       "      <th>Parch</th>\n",
       "      <th>Ticket</th>\n",
       "      <th>Fare</th>\n",
       "      <th>Cabin</th>\n",
       "      <th>Embarked</th>\n",
       "    </tr>\n",
       "  </thead>\n",
       "  <tbody>\n",
       "    <tr>\n",
       "      <th>0</th>\n",
       "      <td>1</td>\n",
       "      <td>0</td>\n",
       "      <td>3</td>\n",
       "      <td>Braund, Mr. Owen Harris</td>\n",
       "      <td>male</td>\n",
       "      <td>22.0</td>\n",
       "      <td>1</td>\n",
       "      <td>0</td>\n",
       "      <td>A/5 21171</td>\n",
       "      <td>7.2500</td>\n",
       "      <td>NaN</td>\n",
       "      <td>S</td>\n",
       "    </tr>\n",
       "    <tr>\n",
       "      <th>1</th>\n",
       "      <td>2</td>\n",
       "      <td>1</td>\n",
       "      <td>1</td>\n",
       "      <td>Cumings, Mrs. John Bradley (Florence Briggs Th...</td>\n",
       "      <td>female</td>\n",
       "      <td>38.0</td>\n",
       "      <td>1</td>\n",
       "      <td>0</td>\n",
       "      <td>PC 17599</td>\n",
       "      <td>71.2833</td>\n",
       "      <td>C85</td>\n",
       "      <td>C</td>\n",
       "    </tr>\n",
       "    <tr>\n",
       "      <th>2</th>\n",
       "      <td>3</td>\n",
       "      <td>1</td>\n",
       "      <td>3</td>\n",
       "      <td>Heikkinen, Miss. Laina</td>\n",
       "      <td>female</td>\n",
       "      <td>26.0</td>\n",
       "      <td>0</td>\n",
       "      <td>0</td>\n",
       "      <td>STON/O2. 3101282</td>\n",
       "      <td>7.9250</td>\n",
       "      <td>NaN</td>\n",
       "      <td>S</td>\n",
       "    </tr>\n",
       "    <tr>\n",
       "      <th>3</th>\n",
       "      <td>4</td>\n",
       "      <td>1</td>\n",
       "      <td>1</td>\n",
       "      <td>Futrelle, Mrs. Jacques Heath (Lily May Peel)</td>\n",
       "      <td>female</td>\n",
       "      <td>35.0</td>\n",
       "      <td>1</td>\n",
       "      <td>0</td>\n",
       "      <td>113803</td>\n",
       "      <td>53.1000</td>\n",
       "      <td>C123</td>\n",
       "      <td>S</td>\n",
       "    </tr>\n",
       "    <tr>\n",
       "      <th>4</th>\n",
       "      <td>5</td>\n",
       "      <td>0</td>\n",
       "      <td>3</td>\n",
       "      <td>Allen, Mr. William Henry</td>\n",
       "      <td>male</td>\n",
       "      <td>35.0</td>\n",
       "      <td>0</td>\n",
       "      <td>0</td>\n",
       "      <td>373450</td>\n",
       "      <td>8.0500</td>\n",
       "      <td>NaN</td>\n",
       "      <td>S</td>\n",
       "    </tr>\n",
       "  </tbody>\n",
       "</table>\n",
       "</div>"
      ],
      "text/plain": [
       "   PassengerId  Survived  Pclass  \\\n",
       "0            1         0       3   \n",
       "1            2         1       1   \n",
       "2            3         1       3   \n",
       "3            4         1       1   \n",
       "4            5         0       3   \n",
       "\n",
       "                                                Name     Sex   Age  SibSp  \\\n",
       "0                            Braund, Mr. Owen Harris    male  22.0      1   \n",
       "1  Cumings, Mrs. John Bradley (Florence Briggs Th...  female  38.0      1   \n",
       "2                             Heikkinen, Miss. Laina  female  26.0      0   \n",
       "3       Futrelle, Mrs. Jacques Heath (Lily May Peel)  female  35.0      1   \n",
       "4                           Allen, Mr. William Henry    male  35.0      0   \n",
       "\n",
       "   Parch            Ticket     Fare Cabin Embarked  \n",
       "0      0         A/5 21171   7.2500   NaN        S  \n",
       "1      0          PC 17599  71.2833   C85        C  \n",
       "2      0  STON/O2. 3101282   7.9250   NaN        S  \n",
       "3      0            113803  53.1000  C123        S  \n",
       "4      0            373450   8.0500   NaN        S  "
      ]
     },
     "execution_count": 28,
     "metadata": {},
     "output_type": "execute_result"
    }
   ],
   "source": [
    "df = pd.read_csv('titanic.csv')\n",
    "df.head()"
   ]
  },
  {
   "cell_type": "code",
   "execution_count": 29,
   "id": "8877de2e-69f0-4326-a63a-a68d3d168f5e",
   "metadata": {},
   "outputs": [
    {
     "data": {
      "text/plain": [
       "<Axes: ylabel='Density'>"
      ]
     },
     "execution_count": 29,
     "metadata": {},
     "output_type": "execute_result"
    },
    {
     "data": {
      "image/png": "[encoded data removed]",
      "text/plain": [
       "<Figure size 640x480 with 1 Axes>"
      ]
     },
     "metadata": {},
     "output_type": "display_data"
    }
   ],
   "source": [
    "df['Age'].plot(kind='kde')"
   ]
  },
  {
   "cell_type": "code",
   "execution_count": 30,
   "id": "793b7b88-92c1-42f4-bba6-3d5a084f9f9c",
   "metadata": {},
   "outputs": [
    {
     "data": {
      "text/plain": [
       "<Axes: >"
      ]
     },
     "execution_count": 30,
     "metadata": {},
     "output_type": "execute_result"
    },
    {
     "data": {
      "image/png": "[encoded data removed]",
      "text/plain": [
       "<Figure size 640x480 with 1 Axes>"
      ]
     },
     "metadata": {},
     "output_type": "display_data"
    }
   ],
   "source": [
    "df[['Age']].boxplot()"
   ]
  },
  {
   "cell_type": "code",
   "execution_count": 31,
   "id": "5b87a8d4-d1e2-4c9d-8710-1cd77aa7ccc5",
   "metadata": {},
   "outputs": [
    {
     "data": {
      "text/plain": [
       "<Axes: >"
      ]
     },
     "execution_count": 31,
     "metadata": {},
     "output_type": "execute_result"
    },
    {
     "data": {
      "image/png": "[encoded data removed]",
      "text/plain": [
       "<Figure size 640x480 with 1 Axes>"
      ]
     },
     "metadata": {},
     "output_type": "display_data"
    }
   ],
   "source": [
    "sns.boxplot(df['Age'],orient=\"h\")"
   ]
  },
  {
   "cell_type": "code",
   "execution_count": 32,
   "id": "8fb93bc9-26bb-48f6-b493-dc56b34fc864",
   "metadata": {},
   "outputs": [],
   "source": [
    "def capping(df,var,value):\n",
    "    upper=df[var].mean()+value*df[var].std()\n",
    "    lower=df[var].mean()-value*df[var].std()\n",
    "\n",
    "    return upper,lower"
   ]
  },
  {
   "cell_type": "code",
   "execution_count": 33,
   "id": "42671dc5-be38-4320-acd7-31a00ad2d84c",
   "metadata": {},
   "outputs": [],
   "source": [
    "upper,lower = capping(df,'Age',1.5)"
   ]
  },
  {
   "cell_type": "code",
   "execution_count": 34,
   "id": "107d6d14-4da3-4ab2-becd-45d3489ac6ba",
   "metadata": {},
   "outputs": [
    {
     "data": {
      "text/plain": [
       "51.48886364555989"
      ]
     },
     "execution_count": 34,
     "metadata": {},
     "output_type": "execute_result"
    }
   ],
   "source": [
    "upper"
   ]
  },
  {
   "cell_type": "code",
   "execution_count": 35,
   "id": "fb149246-6bb5-45b8-9a2f-c27bdf163f1a",
   "metadata": {},
   "outputs": [
    {
     "data": {
      "text/plain": [
       "7.909371648557755"
      ]
     },
     "execution_count": 35,
     "metadata": {},
     "output_type": "execute_result"
    }
   ],
   "source": [
    "lower"
   ]
  },
  {
   "cell_type": "code",
   "execution_count": 36,
   "id": "ba0c4a20-286e-4d7d-ad24-28c8e3878c47",
   "metadata": {},
   "outputs": [],
   "source": [
    "df['Age_out'] = np.where(df['Age'] > upper , upper,\n",
    "                         np.where(df['Age']< lower,lower,df['Age']))"
   ]
  },
  {
   "cell_type": "code",
   "execution_count": 37,
   "id": "ab280e0d-e0f2-4d0e-9e9e-c29d1684c46f",
   "metadata": {},
   "outputs": [
    {
     "data": {
      "text/html": [
       "<div>\n",
       "<style scoped>\n",
       "    .dataframe tbody tr th:only-of-type {\n",
       "        vertical-align: middle;\n",
       "    }\n",
       "\n",
       "    .dataframe tbody tr th {\n",
       "        vertical-align: top;\n",
       "    }\n",
       "\n",
       "    .dataframe thead th {\n",
       "        text-align: right;\n",
       "    }\n",
       "</style>\n",
       "<table border=\"1\" class=\"dataframe\">\n",
       "  <thead>\n",
       "    <tr style=\"text-align: right;\">\n",
       "      <th></th>\n",
       "      <th>PassengerId</th>\n",
       "      <th>Survived</th>\n",
       "      <th>Pclass</th>\n",
       "      <th>Name</th>\n",
       "      <th>Sex</th>\n",
       "      <th>Age</th>\n",
       "      <th>SibSp</th>\n",
       "      <th>Parch</th>\n",
       "      <th>Ticket</th>\n",
       "      <th>Fare</th>\n",
       "      <th>Cabin</th>\n",
       "      <th>Embarked</th>\n",
       "      <th>Age_out</th>\n",
       "    </tr>\n",
       "  </thead>\n",
       "  <tbody>\n",
       "    <tr>\n",
       "      <th>0</th>\n",
       "      <td>1</td>\n",
       "      <td>0</td>\n",
       "      <td>3</td>\n",
       "      <td>Braund, Mr. Owen Harris</td>\n",
       "      <td>male</td>\n",
       "      <td>22.0</td>\n",
       "      <td>1</td>\n",
       "      <td>0</td>\n",
       "      <td>A/5 21171</td>\n",
       "      <td>7.2500</td>\n",
       "      <td>NaN</td>\n",
       "      <td>S</td>\n",
       "      <td>22.0</td>\n",
       "    </tr>\n",
       "    <tr>\n",
       "      <th>1</th>\n",
       "      <td>2</td>\n",
       "      <td>1</td>\n",
       "      <td>1</td>\n",
       "      <td>Cumings, Mrs. John Bradley (Florence Briggs Th...</td>\n",
       "      <td>female</td>\n",
       "      <td>38.0</td>\n",
       "      <td>1</td>\n",
       "      <td>0</td>\n",
       "      <td>PC 17599</td>\n",
       "      <td>71.2833</td>\n",
       "      <td>C85</td>\n",
       "      <td>C</td>\n",
       "      <td>38.0</td>\n",
       "    </tr>\n",
       "    <tr>\n",
       "      <th>2</th>\n",
       "      <td>3</td>\n",
       "      <td>1</td>\n",
       "      <td>3</td>\n",
       "      <td>Heikkinen, Miss. Laina</td>\n",
       "      <td>female</td>\n",
       "      <td>26.0</td>\n",
       "      <td>0</td>\n",
       "      <td>0</td>\n",
       "      <td>STON/O2. 3101282</td>\n",
       "      <td>7.9250</td>\n",
       "      <td>NaN</td>\n",
       "      <td>S</td>\n",
       "      <td>26.0</td>\n",
       "    </tr>\n",
       "  </tbody>\n",
       "</table>\n",
       "</div>"
      ],
      "text/plain": [
       "   PassengerId  Survived  Pclass  \\\n",
       "0            1         0       3   \n",
       "1            2         1       1   \n",
       "2            3         1       3   \n",
       "\n",
       "                                                Name     Sex   Age  SibSp  \\\n",
       "0                            Braund, Mr. Owen Harris    male  22.0      1   \n",
       "1  Cumings, Mrs. John Bradley (Florence Briggs Th...  female  38.0      1   \n",
       "2                             Heikkinen, Miss. Laina  female  26.0      0   \n",
       "\n",
       "   Parch            Ticket     Fare Cabin Embarked  Age_out  \n",
       "0      0         A/5 21171   7.2500   NaN        S     22.0  \n",
       "1      0          PC 17599  71.2833   C85        C     38.0  \n",
       "2      0  STON/O2. 3101282   7.9250   NaN        S     26.0  "
      ]
     },
     "execution_count": 37,
     "metadata": {},
     "output_type": "execute_result"
    }
   ],
   "source": [
    "df.head(3)"
   ]
  },
  {
   "cell_type": "code",
   "execution_count": 38,
   "id": "b4830baa-b7a0-4b6a-8c5a-7ec4890cec74",
   "metadata": {},
   "outputs": [
    {
     "data": {
      "text/plain": [
       "<Axes: >"
      ]
     },
     "execution_count": 38,
     "metadata": {},
     "output_type": "execute_result"
    },
    {
     "data": {
      "image/png": "[encoded data removed]",
      "text/plain": [
       "<Figure size 640x480 with 1 Axes>"
      ]
     },
     "metadata": {},
     "output_type": "display_data"
    }
   ],
   "source": [
    "sns.boxplot(df['Age'] , orient=\"h\") # for original column"
   ]
  },
  {
   "cell_type": "code",
   "execution_count": 39,
   "id": "813d887a-041d-4c01-9d2f-c0f5fb6fd5c9",
   "metadata": {},
   "outputs": [
    {
     "data": {
      "text/plain": [
       "<Axes: >"
      ]
     },
     "execution_count": 39,
     "metadata": {},
     "output_type": "execute_result"
    },
    {
     "data": {
      "image/png": "[encoded data removed]",
      "text/plain": [
       "<Figure size 640x480 with 1 Axes>"
      ]
     },
     "metadata": {},
     "output_type": "display_data"
    }
   ],
   "source": [
    "sns.boxplot(df['Age_out'] , orient=\"h\")"
   ]
  },
  {
   "cell_type": "markdown",
   "id": "27dc346d-2948-4b04-a1d8-3ac994009889",
   "metadata": {},
   "source": [
    "### 5th and 95th quantiles"
   ]
  },
  {
   "cell_type": "code",
   "execution_count": 40,
   "id": "59a0d0b8-8fef-4b90-af32-e8afeca0ac00",
   "metadata": {},
   "outputs": [],
   "source": [
    "def quantile(df,var,value):\n",
    "    upper=df[var].quantile(0.95)\n",
    "    lower=df[var].quantile(0.05)\n",
    "\n",
    "    return upper,lower"
   ]
  },
  {
   "cell_type": "code",
   "execution_count": 41,
   "id": "e6bfc7e5-c0eb-41c4-9280-84f7b1cd5b08",
   "metadata": {},
   "outputs": [],
   "source": [
    "upper,lower = quantile(df,'Age',1.5)"
   ]
  },
  {
   "cell_type": "code",
   "execution_count": 42,
   "id": "9de55497-effc-45b1-b4fc-4b49711ee2f2",
   "metadata": {},
   "outputs": [
    {
     "data": {
      "text/plain": [
       "56.0"
      ]
     },
     "execution_count": 42,
     "metadata": {},
     "output_type": "execute_result"
    }
   ],
   "source": [
    "upper"
   ]
  },
  {
   "cell_type": "code",
   "execution_count": 43,
   "id": "d41da833-b0b8-4a07-bce6-ca9665dcd941",
   "metadata": {},
   "outputs": [
    {
     "data": {
      "text/plain": [
       "4.0"
      ]
     },
     "execution_count": 43,
     "metadata": {},
     "output_type": "execute_result"
    }
   ],
   "source": [
    "lower"
   ]
  },
  {
   "cell_type": "code",
   "execution_count": 44,
   "id": "17482c23-7e0b-4ea9-8bca-894990a2db84",
   "metadata": {},
   "outputs": [],
   "source": [
    "df['Age_qun'] = np.where(df['Age'] > upper , upper,\n",
    "                         np.where(df['Age']< lower,lower,df['Age']))"
   ]
  },
  {
   "cell_type": "code",
   "execution_count": 45,
   "id": "40347736-448c-45d8-b777-d3bd8a630feb",
   "metadata": {},
   "outputs": [
    {
     "data": {
      "text/plain": [
       "<Axes: >"
      ]
     },
     "execution_count": 45,
     "metadata": {},
     "output_type": "execute_result"
    },
    {
     "data": {
      "image/png": "[encoded data removed]",
      "text/plain": [
       "<Figure size 640x480 with 1 Axes>"
      ]
     },
     "metadata": {},
     "output_type": "display_data"
    }
   ],
   "source": [
    "sns.boxplot(df['Age'] , orient=\"h\")"
   ]
  },
  {
   "cell_type": "code",
   "execution_count": 46,
   "id": "df679048-44ea-4f27-8d48-da713097f011",
   "metadata": {},
   "outputs": [
    {
     "data": {
      "text/plain": [
       "<Axes: >"
      ]
     },
     "execution_count": 46,
     "metadata": {},
     "output_type": "execute_result"
    },
    {
     "data": {
      "image/png": "[encoded data removed]",
      "text/plain": [
       "<Figure size 640x480 with 1 Axes>"
      ]
     },
     "metadata": {},
     "output_type": "display_data"
    }
   ],
   "source": [
    "sns.boxplot(df['Age_qun'] , orient=\"h\")"
   ]
  },
  {
   "cell_type": "code",
   "execution_count": 47,
   "id": "e31a9d47-052e-44e2-805a-3edce1ee94e2",
   "metadata": {},
   "outputs": [
    {
     "data": {
      "text/plain": [
       "<Axes: >"
      ]
     },
     "execution_count": 47,
     "metadata": {},
     "output_type": "execute_result"
    },
    {
     "data": {
      "image/png": "[encoded data removed]",
      "text/plain": [
       "<Figure size 640x480 with 1 Axes>"
      ]
     },
     "metadata": {},
     "output_type": "display_data"
    }
   ],
   "source": [
    "# capping\n",
    "sns.boxplot(df['Age_out'],orient=\"h\")"
   ]
  },
  {
   "cell_type": "markdown",
   "id": "f4853012-d8e2-4d9b-b9e9-ccdf908a74e3",
   "metadata": {},
   "source": [
    "### fare column:"
   ]
  },
  {
   "cell_type": "code",
   "execution_count": 48,
   "id": "bc8333e3-badf-4028-924b-90fe7116ba6b",
   "metadata": {},
   "outputs": [
    {
     "data": {
      "text/plain": [
       "<Axes: ylabel='Density'>"
      ]
     },
     "execution_count": 48,
     "metadata": {},
     "output_type": "execute_result"
    },
    {
     "data": {
      "image/png": "[encoded data removed]",
      "text/plain": [
       "<Figure size 640x480 with 1 Axes>"
      ]
     },
     "metadata": {},
     "output_type": "display_data"
    }
   ],
   "source": [
    "df['Fare'].plot(kind='kde')"
   ]
  },
  {
   "cell_type": "code",
   "execution_count": 49,
   "id": "100f8085-0eab-4e95-8934-79111a06491d",
   "metadata": {},
   "outputs": [
    {
     "data": {
      "text/plain": [
       "<Axes: >"
      ]
     },
     "execution_count": 49,
     "metadata": {},
     "output_type": "execute_result"
    },
    {
     "data": {
      "image/png": "[encoded data removed]",
      "text/plain": [
       "<Figure size 640x480 with 1 Axes>"
      ]
     },
     "metadata": {},
     "output_type": "display_data"
    }
   ],
   "source": [
    "df[['Fare']].boxplot()"
   ]
  },
  {
   "cell_type": "code",
   "execution_count": 51,
   "id": "18ea0510-339a-4cc6-9f2c-3f52a367efea",
   "metadata": {},
   "outputs": [
    {
     "data": {
      "text/plain": [
       "<Axes: >"
      ]
     },
     "execution_count": 51,
     "metadata": {},
     "output_type": "execute_result"
    },
    {
     "data": {
      "image/png": "[encoded data removed]",
      "text/plain": [
       "<Figure size 640x480 with 1 Axes>"
      ]
     },
     "metadata": {},
     "output_type": "display_data"
    }
   ],
   "source": [
    "sns.boxplot(df['Fare'],orient=\"h\")"
   ]
  },
  {
   "cell_type": "code",
   "execution_count": 52,
   "id": "e41da016-0d62-45dc-b331-3692d5a763a3",
   "metadata": {},
   "outputs": [],
   "source": [
    "def capping(df,var,value):\n",
    "    upper=df[var].mean()+value*df[var].std()\n",
    "    lower=df[var].mean()-value*df[var].std()\n",
    "\n",
    "    return upper,lower"
   ]
  },
  {
   "cell_type": "code",
   "execution_count": 53,
   "id": "bfa51560-a1cb-4978-bbd7-e9b795fca576",
   "metadata": {},
   "outputs": [],
   "source": [
    "upper,lower = capping(df,'Fare',1.5)"
   ]
  },
  {
   "cell_type": "code",
   "execution_count": 54,
   "id": "96ae39ce-3953-41b5-978a-ac0416a589cb",
   "metadata": {},
   "outputs": [
    {
     "data": {
      "text/plain": [
       "106.74435086434599"
      ]
     },
     "execution_count": 54,
     "metadata": {},
     "output_type": "execute_result"
    }
   ],
   "source": [
    "upper"
   ]
  },
  {
   "cell_type": "code",
   "execution_count": 55,
   "id": "c7caa11f-cf0e-4704-b066-54d8ec33025c",
   "metadata": {},
   "outputs": [
    {
     "data": {
      "text/plain": [
       "-42.33593492719672"
      ]
     },
     "execution_count": 55,
     "metadata": {},
     "output_type": "execute_result"
    }
   ],
   "source": [
    "lower"
   ]
  },
  {
   "cell_type": "code",
   "execution_count": 56,
   "id": "4e44901e-75b0-4178-81ec-0c8699c1e4b3",
   "metadata": {},
   "outputs": [],
   "source": [
    "df['Fare_out'] = np.where(df['Fare'] > upper , upper,\n",
    "                         np.where(df['Fare']< lower,lower,df['Fare']))"
   ]
  },
  {
   "cell_type": "code",
   "execution_count": 57,
   "id": "44fed4f2-6e5f-46d5-ade2-097333154759",
   "metadata": {},
   "outputs": [
    {
     "data": {
      "text/html": [
       "<div>\n",
       "<style scoped>\n",
       "    .dataframe tbody tr th:only-of-type {\n",
       "        vertical-align: middle;\n",
       "    }\n",
       "\n",
       "    .dataframe tbody tr th {\n",
       "        vertical-align: top;\n",
       "    }\n",
       "\n",
       "    .dataframe thead th {\n",
       "        text-align: right;\n",
       "    }\n",
       "</style>\n",
       "<table border=\"1\" class=\"dataframe\">\n",
       "  <thead>\n",
       "    <tr style=\"text-align: right;\">\n",
       "      <th></th>\n",
       "      <th>PassengerId</th>\n",
       "      <th>Survived</th>\n",
       "      <th>Pclass</th>\n",
       "      <th>Name</th>\n",
       "      <th>Sex</th>\n",
       "      <th>Age</th>\n",
       "      <th>SibSp</th>\n",
       "      <th>Parch</th>\n",
       "      <th>Ticket</th>\n",
       "      <th>Fare</th>\n",
       "      <th>Cabin</th>\n",
       "      <th>Embarked</th>\n",
       "      <th>Age_out</th>\n",
       "      <th>Age_qun</th>\n",
       "      <th>Fare_out</th>\n",
       "    </tr>\n",
       "  </thead>\n",
       "  <tbody>\n",
       "    <tr>\n",
       "      <th>0</th>\n",
       "      <td>1</td>\n",
       "      <td>0</td>\n",
       "      <td>3</td>\n",
       "      <td>Braund, Mr. Owen Harris</td>\n",
       "      <td>male</td>\n",
       "      <td>22.0</td>\n",
       "      <td>1</td>\n",
       "      <td>0</td>\n",
       "      <td>A/5 21171</td>\n",
       "      <td>7.2500</td>\n",
       "      <td>NaN</td>\n",
       "      <td>S</td>\n",
       "      <td>22.0</td>\n",
       "      <td>22.0</td>\n",
       "      <td>7.2500</td>\n",
       "    </tr>\n",
       "    <tr>\n",
       "      <th>1</th>\n",
       "      <td>2</td>\n",
       "      <td>1</td>\n",
       "      <td>1</td>\n",
       "      <td>Cumings, Mrs. John Bradley (Florence Briggs Th...</td>\n",
       "      <td>female</td>\n",
       "      <td>38.0</td>\n",
       "      <td>1</td>\n",
       "      <td>0</td>\n",
       "      <td>PC 17599</td>\n",
       "      <td>71.2833</td>\n",
       "      <td>C85</td>\n",
       "      <td>C</td>\n",
       "      <td>38.0</td>\n",
       "      <td>38.0</td>\n",
       "      <td>71.2833</td>\n",
       "    </tr>\n",
       "    <tr>\n",
       "      <th>2</th>\n",
       "      <td>3</td>\n",
       "      <td>1</td>\n",
       "      <td>3</td>\n",
       "      <td>Heikkinen, Miss. Laina</td>\n",
       "      <td>female</td>\n",
       "      <td>26.0</td>\n",
       "      <td>0</td>\n",
       "      <td>0</td>\n",
       "      <td>STON/O2. 3101282</td>\n",
       "      <td>7.9250</td>\n",
       "      <td>NaN</td>\n",
       "      <td>S</td>\n",
       "      <td>26.0</td>\n",
       "      <td>26.0</td>\n",
       "      <td>7.9250</td>\n",
       "    </tr>\n",
       "    <tr>\n",
       "      <th>3</th>\n",
       "      <td>4</td>\n",
       "      <td>1</td>\n",
       "      <td>1</td>\n",
       "      <td>Futrelle, Mrs. Jacques Heath (Lily May Peel)</td>\n",
       "      <td>female</td>\n",
       "      <td>35.0</td>\n",
       "      <td>1</td>\n",
       "      <td>0</td>\n",
       "      <td>113803</td>\n",
       "      <td>53.1000</td>\n",
       "      <td>C123</td>\n",
       "      <td>S</td>\n",
       "      <td>35.0</td>\n",
       "      <td>35.0</td>\n",
       "      <td>53.1000</td>\n",
       "    </tr>\n",
       "    <tr>\n",
       "      <th>4</th>\n",
       "      <td>5</td>\n",
       "      <td>0</td>\n",
       "      <td>3</td>\n",
       "      <td>Allen, Mr. William Henry</td>\n",
       "      <td>male</td>\n",
       "      <td>35.0</td>\n",
       "      <td>0</td>\n",
       "      <td>0</td>\n",
       "      <td>373450</td>\n",
       "      <td>8.0500</td>\n",
       "      <td>NaN</td>\n",
       "      <td>S</td>\n",
       "      <td>35.0</td>\n",
       "      <td>35.0</td>\n",
       "      <td>8.0500</td>\n",
       "    </tr>\n",
       "  </tbody>\n",
       "</table>\n",
       "</div>"
      ],
      "text/plain": [
       "   PassengerId  Survived  Pclass  \\\n",
       "0            1         0       3   \n",
       "1            2         1       1   \n",
       "2            3         1       3   \n",
       "3            4         1       1   \n",
       "4            5         0       3   \n",
       "\n",
       "                                                Name     Sex   Age  SibSp  \\\n",
       "0                            Braund, Mr. Owen Harris    male  22.0      1   \n",
       "1  Cumings, Mrs. John Bradley (Florence Briggs Th...  female  38.0      1   \n",
       "2                             Heikkinen, Miss. Laina  female  26.0      0   \n",
       "3       Futrelle, Mrs. Jacques Heath (Lily May Peel)  female  35.0      1   \n",
       "4                           Allen, Mr. William Henry    male  35.0      0   \n",
       "\n",
       "   Parch            Ticket     Fare Cabin Embarked  Age_out  Age_qun  Fare_out  \n",
       "0      0         A/5 21171   7.2500   NaN        S     22.0     22.0    7.2500  \n",
       "1      0          PC 17599  71.2833   C85        C     38.0     38.0   71.2833  \n",
       "2      0  STON/O2. 3101282   7.9250   NaN        S     26.0     26.0    7.9250  \n",
       "3      0            113803  53.1000  C123        S     35.0     35.0   53.1000  \n",
       "4      0            373450   8.0500   NaN        S     35.0     35.0    8.0500  "
      ]
     },
     "execution_count": 57,
     "metadata": {},
     "output_type": "execute_result"
    }
   ],
   "source": [
    "df.head()"
   ]
  },
  {
   "cell_type": "code",
   "execution_count": 59,
   "id": "e35d49d9-b3eb-45e5-b91c-692bb9be5936",
   "metadata": {},
   "outputs": [
    {
     "data": {
      "text/plain": [
       "<Axes: >"
      ]
     },
     "execution_count": 59,
     "metadata": {},
     "output_type": "execute_result"
    },
    {
     "data": {
      "image/png": "[encoded data removed]",
      "text/plain": [
       "<Figure size 640x480 with 1 Axes>"
      ]
     },
     "metadata": {},
     "output_type": "display_data"
    }
   ],
   "source": [
    "sns.boxplot(df['Fare'],orient=\"h\")"
   ]
  },
  {
   "cell_type": "code",
   "execution_count": 60,
   "id": "1b5f19e2-ac8c-4997-8edb-fb6c28d59c5c",
   "metadata": {},
   "outputs": [
    {
     "data": {
      "text/plain": [
       "<Axes: >"
      ]
     },
     "execution_count": 60,
     "metadata": {},
     "output_type": "execute_result"
    },
    {
     "data": {
      "image/png": "[encoded data removed]",
      "text/plain": [
       "<Figure size 640x480 with 1 Axes>"
      ]
     },
     "metadata": {},
     "output_type": "display_data"
    }
   ],
   "source": [
    "sns.boxplot(df['Fare_out'],orient=\"h\")"
   ]
  },
  {
   "cell_type": "code",
   "execution_count": 61,
   "id": "0ff043ba-185c-4681-bf84-638695172a86",
   "metadata": {},
   "outputs": [],
   "source": [
    "def quantile(df,var,value):\n",
    "    upper=df[var].quantile(0.95)\n",
    "    lower=df[var].quantile(0.05)\n",
    "\n",
    "    return upper,lower"
   ]
  },
  {
   "cell_type": "code",
   "execution_count": 62,
   "id": "665ad26c-d5b8-43ac-a3f4-97463983dfbf",
   "metadata": {},
   "outputs": [],
   "source": [
    "upper,lower = quantile(df,'Fare',1.5)"
   ]
  },
  {
   "cell_type": "code",
   "execution_count": 63,
   "id": "1ef7e6d8-bae7-4040-8cb4-c3ab9e12547f",
   "metadata": {},
   "outputs": [
    {
     "data": {
      "text/plain": [
       "112.07915"
      ]
     },
     "execution_count": 63,
     "metadata": {},
     "output_type": "execute_result"
    }
   ],
   "source": [
    "upper"
   ]
  },
  {
   "cell_type": "code",
   "execution_count": 64,
   "id": "a447047f-33ed-4696-8998-a9860894522c",
   "metadata": {},
   "outputs": [
    {
     "data": {
      "text/plain": [
       "7.225"
      ]
     },
     "execution_count": 64,
     "metadata": {},
     "output_type": "execute_result"
    }
   ],
   "source": [
    "lower"
   ]
  },
  {
   "cell_type": "code",
   "execution_count": 65,
   "id": "a9cf56bb-9413-467d-a02e-549ed35368e2",
   "metadata": {},
   "outputs": [],
   "source": [
    "df['Fare_qun'] = np.where(df['Fare'] > upper , upper,\n",
    "                         np.where(df['Fare']< lower,lower,df['Fare']))"
   ]
  },
  {
   "cell_type": "code",
   "execution_count": 66,
   "id": "497731d4-4983-4a89-8ee5-ccd29e376806",
   "metadata": {},
   "outputs": [
    {
     "data": {
      "text/plain": [
       "<Axes: >"
      ]
     },
     "execution_count": 66,
     "metadata": {},
     "output_type": "execute_result"
    },
    {
     "data": {
      "image/png": "[encoded data removed]",
      "text/plain": [
       "<Figure size 640x480 with 1 Axes>"
      ]
     },
     "metadata": {},
     "output_type": "display_data"
    }
   ],
   "source": [
    "sns.boxplot(df['Fare'],orient=\"h\")"
   ]
  },
  {
   "cell_type": "code",
   "execution_count": 68,
   "id": "a7cc523e-8bf0-4b41-9274-3d31e839bb21",
   "metadata": {},
   "outputs": [
    {
     "data": {
      "text/plain": [
       "<Axes: >"
      ]
     },
     "execution_count": 68,
     "metadata": {},
     "output_type": "execute_result"
    },
    {
     "data": {
      "image/png": "[encoded data removed]",
      "text/plain": [
       "<Figure size 640x480 with 1 Axes>"
      ]
     },
     "metadata": {},
     "output_type": "display_data"
    }
   ],
   "source": [
    "sns.boxplot(df['Fare_qun'],orient=\"h\")"
   ]
  },
  {
   "cell_type": "code",
   "execution_count": null,
   "id": "922aa545-c261-4bcc-837d-28636dbb7ef7",
   "metadata": {},
   "outputs": [],
   "source": []
  }
 ],
 "metadata": {
  "kernelspec": {
   "display_name": "Python 3 (ipykernel)",
   "language": "python",
   "name": "python3"
  },
  "language_info": {
   "codemirror_mode": {
    "name": "ipython",
    "version": 3
   },
   "file_extension": ".py",
   "mimetype": "text/x-python",
   "name": "python",
   "nbconvert_exporter": "python",
   "pygments_lexer": "ipython3",
   "version": "3.11.7"
  }
 },
 "nbformat": 4,
 "nbformat_minor": 5
}
